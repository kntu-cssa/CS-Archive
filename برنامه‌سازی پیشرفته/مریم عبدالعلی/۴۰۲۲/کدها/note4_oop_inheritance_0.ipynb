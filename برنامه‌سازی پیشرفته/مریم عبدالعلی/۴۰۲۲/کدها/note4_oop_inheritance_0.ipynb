{
 "cells": [
  {
   "cell_type": "raw",
   "metadata": {},
   "source": [
    "+-----------------+           +----------------------+\n",
    "|    Employee     |<----------| FullTimeEmployee     |\n",
    "+-----------------+           +----------------------+\n",
    "| - name: str     |           | - salary: float      |\n",
    "| - hourly_rate:  |           +----------------------+\n",
    "|     float       |           | + calculate_monthly_ |\n",
    "+-----------------+           |   salary(): float    |\n",
    "| + calculate_    |           +----------------------+\n",
    "|   monthly_salary|         \n",
    "|   (hours_worked |         +----------------------+\n",
    "|   : float):     |<--------| PartTimeEmployee     |\n",
    "|   float         |         +----------------------+\n",
    "+-----------------+         | + calculate_monthly_ |\n",
    "       ^                    |   salary(hours_worked|\n",
    "       |                    |   : float): float    |\n",
    "       |                    +----------------------+\n",
    "+-----------------+           \n",
    "| Contractor      |           \n",
    "+-----------------+           \n",
    "| + calculate_    |           \n",
    "|   monthly_salary|           \n",
    "|   (): float     |           \n",
    "+-----------------+           "
   ]
  },
  {
   "cell_type": "code",
   "execution_count": null,
   "metadata": {},
   "outputs": [],
   "source": [
    "class Employee:\n",
    "    def __init__(self, name, hourly_rate):\n",
    "        self.name = name\n",
    "        self.hourly_rate = hourly_rate\n",
    "    def calculate_monthly_salary(self, hours_worked):\n",
    "        return self.hourly_rate * hours_worked\n",
    "\n",
    "class FullTimeEmployee(Employee):\n",
    "    def __init__(self, name, salary):\n",
    "        super().__init__(name, 0)\n",
    "        self.salary = salary\n",
    "    def calculate_monthly_salary(self):\n",
    "        return self.salary\n",
    "    \n",
    "class PartTimeEmployee(Employee):\n",
    "    def calculate_monthly_salary(self, hours_worked):\n",
    "        return super().calculate_monthly_salary(hours_worked)\n",
    "    \n",
    "class Contractor(Employee):\n",
    "    def __init__(self, name, hourly_rate, project_hours):\n",
    "        super().__init__(name, hourly_rate)\n",
    "        self.project_hours = project_hours\n",
    "        \n",
    "    def calculate_monthly_salary(self):\n",
    "        return super().calculate_monthly_salary(self.project_hours)\n",
    "    \n",
    "\n",
    "full_time_emp = FullTimeEmployee(\"Alice\", 5000)\n",
    "part_time_emp = PartTimeEmployee(\"Bob\", 30)\n",
    "contractor = Contractor(\"Charlie\", 40, 100)\n",
    "\n",
    "print(full_time_emp.calculate_monthly_salary())  # Output: 5000\n",
    "print(part_time_emp.calculate_monthly_salary(80))  # Output: 2400\n",
    "print(contractor.calculate_monthly_salary())  # Output: 4000"
   ]
  }
 ],
 "metadata": {
  "kernelspec": {
   "display_name": "Python 3",
   "language": "python",
   "name": "python3"
  },
  "language_info": {
   "codemirror_mode": {
    "name": "ipython",
    "version": 3
   },
   "file_extension": ".py",
   "mimetype": "text/x-python",
   "name": "python",
   "nbconvert_exporter": "python",
   "pygments_lexer": "ipython3",
   "version": "3.11.1"
  }
 },
 "nbformat": 4,
 "nbformat_minor": 2
}
