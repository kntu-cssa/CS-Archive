{
 "cells": [
  {
   "cell_type": "markdown",
   "metadata": {},
   "source": [
    "# To-Do Lists"
   ]
  },
  {
   "cell_type": "markdown",
   "metadata": {},
   "source": [
    "Implement the TodoList and Todo classes. When a Todo is complete, it is removed from all the TodoList\n",
    "instances to which it was ever added. Track both the number of completed Todo instances in each list and\n",
    "overall so that printing a TodoList instance matches the behavior of the doctests below. Assume the complete\n",
    "method of a Todo instance is never invoked more than once.\n",
    "\n",
    "```python\n",
    ">>> a, b = TodoList(), TodoList()\n",
    ">>> a.add(Todo('Laundry'))\n",
    ">>> t = Todo('Shopping')\n",
    ">>> a.add(t)\n",
    ">>> b.add(t)\n",
    ">>> print(a)\n",
    "Remaining: ['Laundry', 'Shopping'] ; Completed in list: 0 ; Completed overall: 0\n",
    ">>> print(b)\n",
    "Remaining: ['Shopping'] ; Completed in list: 0 ; Completed overall: 0\n",
    ">>> t.complete()\n",
    ">>> print(a)\n",
    "Remaining: ['Laundry'] ; Completed in list: 1 ; Completed overall: 1\n",
    ">>> print(b)\n",
    "Remaining: [] ; Completed in list: 1 ; Completed overall: 1\n",
    ">>> Todo('Homework').complete()\n",
    ">>> print(a)\n",
    "Remaining: ['Laundry'] ; Completed in list: 1 ; Completed overall: 2\n",
    "```"
   ]
  },
  {
   "cell_type": "code",
   "execution_count": null,
   "metadata": {},
   "outputs": [],
   "source": [
    "class TodoList: \n",
    "    def __init__(self):\n",
    "        self.items, self.complete = [], 0\n",
    "    def add(self, item):\n",
    "        self.items.append(item)\n",
    "        item.lists.append(self)\n",
    "    def remove(self, item):\n",
    "        self.complete += 1\n",
    "        self.items.remove(item)\n",
    "    def __str__(self):\n",
    "        return ('Remaining: ' + str([t.task for t in self.items]) +\n",
    "        ' ; Completed in list: ' + str(self.complete) +\n",
    "        ' ; Completed overall: ' + str(Todo.done))\n",
    "class Todo:\n",
    "    done = 0\n",
    "    def __init__(self, task):\n",
    "        self.task, self.lists = task, []\n",
    "    def complete(self):\n",
    "        Todo.done += 1\n",
    "        for t in self.lists:\n",
    "            t.remove(self)"
   ]
  },
  {
   "cell_type": "code",
   "execution_count": null,
   "metadata": {},
   "outputs": [],
   "source": [
    "a, b = TodoList(), TodoList()\n",
    "a.add(Todo('Laundry'))\n",
    "t = Todo('Shopping')\n",
    "a.add(t)\n",
    "b.add(t)\n",
    "print(a)\n",
    "print(b)\n",
    "t.complete()\n",
    "print(a)\n",
    "print(b)\n",
    "Todo('Homework').complete()\n",
    "print(a)\n"
   ]
  },
  {
   "cell_type": "markdown",
   "metadata": {},
   "source": [
    "### To Do List Using Linked Lists"
   ]
  },
  {
   "cell_type": "code",
   "execution_count": 1,
   "metadata": {},
   "outputs": [
    {
     "name": "stdout",
     "output_type": "stream",
     "text": [
      "To-Do List:\n",
      "◻ Finish report\n",
      "✓ Buy groceries\n",
      "◻ Call mom\n"
     ]
    }
   ],
   "source": [
    "class Task:\n",
    "    def __init__(self, description):\n",
    "        self.description = description\n",
    "        self.completed = False\n",
    "\n",
    "    def mark_completed(self):\n",
    "        self.completed = True\n",
    "\n",
    "    def __str__(self):\n",
    "        status = \"✓\" if self.completed else \"◻\"\n",
    "        return f\"{status} {self.description}\"\n",
    "\n",
    "class Node:\n",
    "    def __init__(self, task):\n",
    "        self.task = task\n",
    "        self.next = None\n",
    "\n",
    "class ToDoList:\n",
    "    def __init__(self):\n",
    "        self.head = None\n",
    "\n",
    "    def add_task(self, description):\n",
    "        new_task = Task(description)\n",
    "        new_node = Node(new_task)\n",
    "        if not self.head:\n",
    "            self.head = new_node\n",
    "        else:\n",
    "            current = self.head\n",
    "            while current.next:\n",
    "                current = current.next\n",
    "            current.next = new_node\n",
    "\n",
    "    def mark_completed(self, description):\n",
    "        current = self.head\n",
    "        while current:\n",
    "            if current.task.description == description:\n",
    "                current.task.mark_completed()\n",
    "                return\n",
    "            current = current.next\n",
    "        print(\"Task not found!\")\n",
    "\n",
    "    def display(self):\n",
    "        current = self.head\n",
    "        while current:\n",
    "            print(current.task)\n",
    "            current = current.next\n",
    "\n",
    "# Example usage:\n",
    "if __name__ == \"__main__\":\n",
    "    todo_list = ToDoList()\n",
    "\n",
    "    todo_list.add_task(\"Finish report\")\n",
    "    todo_list.add_task(\"Buy groceries\")\n",
    "    todo_list.add_task(\"Call mom\")\n",
    "\n",
    "    todo_list.mark_completed(\"Buy groceries\")\n",
    "\n",
    "    print(\"To-Do List:\")\n",
    "    todo_list.display()"
   ]
  }
 ],
 "metadata": {
  "kernelspec": {
   "display_name": "Python 3",
   "language": "python",
   "name": "python3"
  },
  "language_info": {
   "codemirror_mode": {
    "name": "ipython",
    "version": 3
   },
   "file_extension": ".py",
   "mimetype": "text/x-python",
   "name": "python",
   "nbconvert_exporter": "python",
   "pygments_lexer": "ipython3",
   "version": "3.11.1"
  }
 },
 "nbformat": 4,
 "nbformat_minor": 2
}
