{
 "cells": [
  {
   "cell_type": "markdown",
   "metadata": {},
   "source": [
    "# Regex Examples"
   ]
  },
  {
   "cell_type": "markdown",
   "metadata": {},
   "source": [
    "### 1. Validating Email Addresses"
   ]
  },
  {
   "cell_type": "code",
   "execution_count": 25,
   "metadata": {},
   "outputs": [
    {
     "data": {
      "text/plain": [
       "<re.Match object; span=(0, 26), match='maryam.abdolali@kntu.ac.ir'>"
      ]
     },
     "execution_count": 25,
     "metadata": {},
     "output_type": "execute_result"
    }
   ],
   "source": [
    "import re\n",
    "\n",
    "\n",
    "re.search(pattern, \"maryam.abdolali@kntu.ac.ir\")"
   ]
  },
  {
   "cell_type": "code",
   "execution_count": 26,
   "metadata": {},
   "outputs": [
    {
     "data": {
      "text/plain": [
       "<re.Match object; span=(0, 25), match='maryam_abdolali@gmail.com'>"
      ]
     },
     "execution_count": 26,
     "metadata": {},
     "output_type": "execute_result"
    }
   ],
   "source": [
    "import re\n",
    "\n",
    "#pattern_1 = r'^[\\w]+@[a-zA-Z]+\\.[a-zA-Z]+$'\n",
    "pattern = r'^[a-zA-Z][\\w.]*@[a-z]+\\.([a-z]+\\.?)+$'\n",
    "#pattern = r'^[a-zA-Z]+[a-zA-Z0-9._]+@[a-zA-Z]+\\.[a-zA-Z]+$'\n",
    "email1 = \"maryam_abdolali@gmail.com\"\n",
    "re.search(pattern, email1)\n"
   ]
  },
  {
   "cell_type": "code",
   "execution_count": 5,
   "metadata": {},
   "outputs": [
    {
     "name": "stdout",
     "output_type": "stream",
     "text": [
      "Valid email address:)\n",
      "Invalid email address!!\n",
      "Invalid email address!!\n"
     ]
    }
   ],
   "source": [
    "import re\n",
    "\n",
    "def val_email(email):\n",
    "    #pattern = r'^[a-zA-Z]+[a-zA-Z0-9\\._]*@[a-zA-Z]+\\.[a-zA-Z]{2,}$'\n",
    "    #pattern = r'^\\w+@\\w+\\.[a-zA-Z]{2,}'\n",
    "    pattern = r'^[a-zA-Z][\\w.]*@[a-z]+\\.([a-z]+\\.?)+$'\n",
    "    if re.match(pattern, email):\n",
    "        print(\"Valid email address:)\")\n",
    "    else:\n",
    "        print(\"Invalid email address!!\")\n",
    "\n",
    "val_email(email=\"elon@example.com\")\n",
    "val_email(email=\"elonexample.com\")\n",
    "val_email(email=\"elon@example.c\")\n"
   ]
  },
  {
   "cell_type": "markdown",
   "metadata": {},
   "source": [
    "### 2. Extracting Numbers from a String"
   ]
  },
  {
   "cell_type": "code",
   "execution_count": 29,
   "metadata": {},
   "outputs": [
    {
     "name": "stdout",
     "output_type": "stream",
     "text": [
      "['100', '98']\n"
     ]
    }
   ],
   "source": [
    "import re\n",
    "def extract_numbers(text):\n",
    "    return re.findall(r'\\d+', text)\n",
    "\n",
    "print(extract_numbers(\"There are over 100 views of Yang's 98 articles.\"))"
   ]
  },
  {
   "cell_type": "markdown",
   "metadata": {},
   "source": [
    "### 3.  Validating a Mobile Phone Number"
   ]
  },
  {
   "cell_type": "code",
   "execution_count": 3,
   "metadata": {},
   "outputs": [
    {
     "name": "stdout",
     "output_type": "stream",
     "text": [
      "True\n",
      "False\n"
     ]
    }
   ],
   "source": [
    "import re\n",
    "\n",
    "def is_valid_phone_number(number):\n",
    "    pattern = r'09\\d{2}-\\d{3}-\\d{4}'\n",
    "    return bool(re.match(pattern, number))\n",
    "\n",
    "print(is_valid_phone_number(\"0912-123-4567\"))  # True\n",
    "print(is_valid_phone_number(\"0910-124-45\"))  # False"
   ]
  },
  {
   "cell_type": "markdown",
   "metadata": {},
   "source": [
    "### 4. Split a Text into Words"
   ]
  },
  {
   "cell_type": "code",
   "execution_count": 4,
   "metadata": {},
   "outputs": [
    {
     "data": {
      "text/plain": [
       "['a', 'b', 'c', 'd']"
      ]
     },
     "execution_count": 4,
     "metadata": {},
     "output_type": "execute_result"
    }
   ],
   "source": [
    "re.split(r'\\s+', 'a b   c')\n",
    "# ['a', 'b', 'c']\n",
    "\n",
    "re.split(r'[\\s\\,]+', 'a,b, c  d')\n",
    "# ['a', 'b', 'c', 'd']\n",
    "\n",
    "re.split(r'[\\s\\,\\;]+', 'a,b;; c  d')"
   ]
  },
  {
   "cell_type": "markdown",
   "metadata": {},
   "source": [
    "### 5. Write a Python program to replace whitespaces with an underscore and vice versa."
   ]
  },
  {
   "cell_type": "code",
   "execution_count": 5,
   "metadata": {},
   "outputs": [
    {
     "data": {
      "text/plain": [
       "'____abc def__'"
      ]
     },
     "execution_count": 5,
     "metadata": {},
     "output_type": "execute_result"
    }
   ],
   "source": [
    "import re\n",
    "\n",
    "input_text = '  \\t abc_def \\n'\n",
    "t1 = re.sub(r'\\s','#',input_text)\n",
    "t2 = re.sub(r'_',' ',t1)\n",
    "re.sub(r'#','_',t2)"
   ]
  },
  {
   "cell_type": "markdown",
   "metadata": {},
   "source": [
    "### 6. Convert a date of yyyy-mm-dd format to dd-mm-yyyy"
   ]
  },
  {
   "cell_type": "code",
   "execution_count": 6,
   "metadata": {},
   "outputs": [
    {
     "name": "stdout",
     "output_type": "stream",
     "text": [
      "02-01-2026\n"
     ]
    }
   ],
   "source": [
    "import re\n",
    "\n",
    "groups = re.search(r'(\\d{4})-(\\d{1,2})-(\\d{1,2})',\"2026-01-02\").groups()\n",
    "result = groups[2]+'-'+groups[1]+'-'+groups[0]\n",
    "print(result)"
   ]
  },
  {
   "cell_type": "markdown",
   "metadata": {},
   "source": [
    "### 7. Match Web URLs"
   ]
  },
  {
   "cell_type": "code",
   "execution_count": 7,
   "metadata": {},
   "outputs": [
    {
     "data": {
      "text/plain": [
       "<re.Match object; span=(0, 47), match='https://subdomain.example.com/path/to/page.html'>"
      ]
     },
     "execution_count": 7,
     "metadata": {},
     "output_type": "execute_result"
    }
   ],
   "source": [
    "import re\n",
    "\n",
    "# pattern=r'(https?://)?(www\\.)?[-\\w.]+\\.[a-z]{2,6}(/\\w+)*(\\.\\w+)?'\n",
    "pattern = r'(https?://)?(www\\.)?[-a-zA-Z0-9._]{2,256}\\.[a-z]{2,6}(/[-a-zA-Z0-9@:%_+.~#?&=]+)*'\n",
    "re.search(pattern,\"https://subdomain.example.com/path/to/page.html\")"
   ]
  },
  {
   "cell_type": "markdown",
   "metadata": {},
   "source": [
    "### 8. extract the Hostname and protocol from a given URL."
   ]
  },
  {
   "cell_type": "code",
   "execution_count": 8,
   "metadata": {},
   "outputs": [
    {
     "name": "stdout",
     "output_type": "stream",
     "text": [
      "https\n",
      "sample-website.com\n"
     ]
    }
   ],
   "source": [
    "import re  \n",
    "website = 'https://www.sample-website.com/'\n",
    "#to find protocol\n",
    "object1 = re.search('(\\w+)://', website).groups()[0]\n",
    "print(object1)\n",
    "# To find host name\n",
    "object2 = re.search('www.([-\\w.]+)', website).groups()[0]\n",
    "print(object2)"
   ]
  },
  {
   "cell_type": "markdown",
   "metadata": {},
   "source": [
    "### 9. Remove html tags & attributes"
   ]
  },
  {
   "cell_type": "code",
   "execution_count": 9,
   "metadata": {},
   "outputs": [
    {
     "name": "stdout",
     "output_type": "stream",
     "text": [
      "This is bold text with link.\n"
     ]
    }
   ],
   "source": [
    "import re\n",
    "\n",
    "def remove_html_tags_with_attributes(text):\n",
    "    #pattern = '<.*?>'\n",
    "    pattern = r'<[^>]+>' # The ^ inside the square brackets [] negates the character class, matching any character except >\n",
    "    cleaned_text = re.sub(pattern, '', text)\n",
    "    return cleaned_text\n",
    "\n",
    "# Example text containing HTML tags with attributes\n",
    "html_text = \"<p>This is <strong>bold</strong> text with <a href='https://example.com'>link</a>.</p>\"\n",
    "cleaned_text = remove_html_tags_with_attributes(html_text)\n",
    "\n",
    "print(cleaned_text)"
   ]
  },
  {
   "cell_type": "code",
   "execution_count": 46,
   "metadata": {},
   "outputs": [
    {
     "data": {
      "text/plain": [
       "'This is bold text with link.'"
      ]
     },
     "execution_count": 46,
     "metadata": {},
     "output_type": "execute_result"
    }
   ],
   "source": [
    "html_text = \"<p>This is <strong>bold</strong> text with <a href='https://example.com'>link</a>.</p>\"\n",
    "\n",
    "\n",
    "#re.search(pattern, html_text)\n",
    "re.sub(pattern, \"\", html_text)"
   ]
  },
  {
   "cell_type": "markdown",
   "metadata": {},
   "source": [
    "credit:\n",
    "\n",
    "\n",
    "- https://medium.com/techtofreedom/9-practical-examples-of-using-regular-expressions-in-python-1b4f8da5cdab\n",
    "- https://www.tutorialspoint.com/how-to-use-python-regular-expression-to-extract-url-from-an-html-link"
   ]
  }
 ],
 "metadata": {
  "kernelspec": {
   "display_name": "Python 3",
   "language": "python",
   "name": "python3"
  },
  "language_info": {
   "codemirror_mode": {
    "name": "ipython",
    "version": 3
   },
   "file_extension": ".py",
   "mimetype": "text/x-python",
   "name": "python",
   "nbconvert_exporter": "python",
   "pygments_lexer": "ipython3",
   "version": "3.11.1"
  }
 },
 "nbformat": 4,
 "nbformat_minor": 2
}
