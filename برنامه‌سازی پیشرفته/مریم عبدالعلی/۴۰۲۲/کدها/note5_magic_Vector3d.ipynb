{
 "cells": [
  {
   "cell_type": "code",
   "execution_count": 13,
   "id": "df041ffb",
   "metadata": {},
   "outputs": [
    {
     "name": "stdout",
     "output_type": "stream",
     "text": [
      "(5, 7, 9)\n",
      "(-3, -3, -3)\n",
      "(4, 10, 18)\n",
      "(0.25, 0.4, 0.5)\n",
      "3\n",
      "False\n",
      "10\n"
     ]
    }
   ],
   "source": [
    "class Vector3d:\n",
    "    def __init__(self,x,y,z):\n",
    "        self.x = x\n",
    "        self.y = y\n",
    "        self.z = z\n",
    "    \n",
    "    def __add__(self,V):\n",
    "        return Vector3d(self.x + V.x, self.y + V.y, self.z + V.z)\n",
    "    def __sub__(self,V):\n",
    "        return Vector3d(self.x - V.x, self.y - V.y, self.z - V.z)  \n",
    "    def __mul__(self,V):\n",
    "        return Vector3d(self.x * V.x, self.y * V.y, self.z * V.z)\n",
    "    def __truediv__(self,V):\n",
    "        return Vector3d(self.x / V.x, self.y / V.y, self.z / V.z)\n",
    "    def __str__(self):\n",
    "        return f\"({self.x}, {self.y}, {self.z})\"\n",
    "    def __len__(self):\n",
    "        return 3\n",
    "    def __eq__(self,V):\n",
    "        return self.x == V.x and self.y == V.y and self.z == V.z\n",
    "    def __getitem__(self,index):\n",
    "        if index == 0:\n",
    "            return self.x\n",
    "        elif index == 1: \n",
    "            return self.y\n",
    "        elif index == 2:\n",
    "            return self.z\n",
    "        else:\n",
    "            raise IndexError\n",
    "    def __setitem__(self,index,item):\n",
    "        if index == 0:\n",
    "            self.x = item\n",
    "        elif index == 1:\n",
    "            self.y = item\n",
    "        elif index == 2:\n",
    "            self.z = item\n",
    "        else:\n",
    "            raise IndexError\n",
    "            \n",
    "v1 = Vector3d(1,2,3)\n",
    "v2 = Vector3d(4,5,6)\n",
    "print(v1+v2)\n",
    "print(v1-v2)\n",
    "print(v1*v2)\n",
    "print(v1/v2)\n",
    "print(len(v1))\n",
    "print(v1==v2)\n",
    "v1[0]=10\n",
    "print(v1[0])"
   ]
  },
  {
   "cell_type": "code",
   "execution_count": null,
   "id": "e7c954ea",
   "metadata": {},
   "outputs": [],
   "source": []
  }
 ],
 "metadata": {
  "kernelspec": {
   "display_name": "Python 3 (ipykernel)",
   "language": "python",
   "name": "python3"
  },
  "language_info": {
   "codemirror_mode": {
    "name": "ipython",
    "version": 3
   },
   "file_extension": ".py",
   "mimetype": "text/x-python",
   "name": "python",
   "nbconvert_exporter": "python",
   "pygments_lexer": "ipython3",
   "version": "3.9.13"
  }
 },
 "nbformat": 4,
 "nbformat_minor": 5
}
