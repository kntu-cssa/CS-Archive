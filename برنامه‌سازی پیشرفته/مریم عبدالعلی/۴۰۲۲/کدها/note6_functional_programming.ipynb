{
 "cells": [
  {
   "cell_type": "markdown",
   "id": "6e638e4c",
   "metadata": {},
   "source": [
    "# Functional programming LAB!"
   ]
  },
  {
   "cell_type": "markdown",
   "id": "eb9fd047",
   "metadata": {},
   "source": [
    "## (i) What are the outputs of following examples?"
   ]
  },
  {
   "cell_type": "code",
   "execution_count": 2,
   "id": "5651d4a8",
   "metadata": {},
   "outputs": [
    {
     "name": "stdout",
     "output_type": "stream",
     "text": [
      "[(1, 4), (1, 5), (1, 6), (2, 4), (2, 5), (2, 6), (3, 4), (3, 5), (3, 6)]\n"
     ]
    }
   ],
   "source": [
    "nums1 = [1, 2, 3]\n",
    "nums2 = [4, 5, 6]\n",
    "nums=[(x,y) for x in nums1 for y in nums2]\n",
    "print(nums)"
   ]
  },
  {
   "cell_type": "code",
   "execution_count": 3,
   "id": "df303ff6",
   "metadata": {},
   "outputs": [
    {
     "name": "stdout",
     "output_type": "stream",
     "text": [
      "[0, 10, 20]\n"
     ]
    }
   ],
   "source": [
    "nums = [x for x in range(21) if x%2==0 if x%5==0] \n",
    "print(nums)"
   ]
  },
  {
   "cell_type": "code",
   "execution_count": 4,
   "id": "ad382ba9",
   "metadata": {},
   "outputs": [
    {
     "name": "stdout",
     "output_type": "stream",
     "text": [
      "['0=Even', '1=Odd', '2=Even', '3=Odd', '4=Even']\n"
     ]
    }
   ],
   "source": [
    "new_list = [str(i) + '=Even' if i%2==0 else str(i) + \"=Odd\" for i in range(5)]\n",
    "print(new_list)"
   ]
  },
  {
   "cell_type": "code",
   "execution_count": 5,
   "id": "db59ac38",
   "metadata": {},
   "outputs": [
    {
     "name": "stdout",
     "output_type": "stream",
     "text": [
      "[1, 2, 3, 4, 5, 6, 7, 8, 9]\n"
     ]
    }
   ],
   "source": [
    "matrix=[[1, 2, 3], [4, 5, 6], [7, 8, 9]]\n",
    "new_list=[num for row in matrix for num in row]\n",
    "print(new_list)"
   ]
  },
  {
   "cell_type": "markdown",
   "id": "98b7e58c",
   "metadata": {},
   "source": [
    "## (ii) How to code the following problems?"
   ]
  },
  {
   "cell_type": "markdown",
   "id": "afb5b68d",
   "metadata": {},
   "source": [
    "##### Given a list of numbers, remove all odd numbers from the list:"
   ]
  },
  {
   "cell_type": "code",
   "execution_count": 6,
   "id": "0a0b735f",
   "metadata": {},
   "outputs": [
    {
     "name": "stdout",
     "output_type": "stream",
     "text": [
      "[32, 22, 10]\n"
     ]
    }
   ],
   "source": [
    "numbers = [3,5,45,97,32,22,10,19,39,43]\n",
    "result = [number for number in numbers if number % 2 == 0]\n",
    "print(result)"
   ]
  },
  {
   "cell_type": "markdown",
   "id": "38d438eb",
   "metadata": {},
   "source": [
    "##### Display the sum of digits of all the odd elements in a list."
   ]
  },
  {
   "cell_type": "code",
   "execution_count": 7,
   "id": "5cfa2145",
   "metadata": {},
   "outputs": [
    {
     "name": "stdout",
     "output_type": "stream",
     "text": [
      "[16, 3, 18, 18]\n"
     ]
    }
   ],
   "source": [
    "\n",
    "# Explicit function\n",
    "def digitSum(n):\n",
    "    dsum = 0\n",
    "    for ele in str(n):\n",
    "        dsum += int(ele)\n",
    "    return dsum\n",
    " \n",
    " \n",
    "#Initializing list\n",
    "List = [367, 111, 562, 945, 6726, 873]\n",
    " \n",
    "# Using the function on odd elements of the list\n",
    "newList = [digitSum(i) for i in List if i%2==1]\n",
    " \n",
    "# Displaying new list\n",
    "print(newList)"
   ]
  },
  {
   "cell_type": "markdown",
   "id": "3146c9a8",
   "metadata": {},
   "source": [
    "##### Find the common numbers in two lists (without using a tuple or set)"
   ]
  },
  {
   "cell_type": "code",
   "execution_count": 8,
   "id": "7e6be063",
   "metadata": {},
   "outputs": [
    {
     "name": "stdout",
     "output_type": "stream",
     "text": [
      "[2, 3, 4]\n"
     ]
    }
   ],
   "source": [
    "list_a = [1, 2, 3, 4]\n",
    "list_b = [2, 3, 4, 5, 6]\n",
    "common = [a for a in list_a if a in list_b]\n",
    "print(common)"
   ]
  },
  {
   "cell_type": "markdown",
   "id": "e45cfccf",
   "metadata": {},
   "source": [
    "##### Find all of the words in a string that are less than 4 letters"
   ]
  },
  {
   "cell_type": "code",
   "execution_count": 9,
   "id": "a8e6e54f",
   "metadata": {},
   "outputs": [
    {
     "name": "stdout",
     "output_type": "stream",
     "text": [
      "['A', 'list', 'of', 'the', 'is', 'for', 'each', 'with', 'the', 'for', 'loop', 'to', 'over', 'each', 'in', 'the']\n"
     ]
    }
   ],
   "source": [
    "sentence = 'A Python list comprehension consists of brackets containing the expression, which is executed for each element along with the for loop to iterate over each element in the Python list.'\n",
    "\n",
    "words_list = sentence.split()\n",
    "\n",
    "result = [word for word in words_list if len(word) <=4]\n",
    "print(result)"
   ]
  },
  {
   "cell_type": "markdown",
   "id": "fb36d9fc",
   "metadata": {},
   "source": [
    "##### Use a nested list comprehension to find all of the numbers from 1-100 that are divisible by any single digit besides 1 (2-9)"
   ]
  },
  {
   "cell_type": "code",
   "execution_count": 10,
   "id": "069ba55b",
   "metadata": {},
   "outputs": [
    {
     "name": "stdout",
     "output_type": "stream",
     "text": [
      "[2, 3, 4, 5, 6, 7, 8, 9, 10, 12, 14, 15, 16, 18, 20, 21, 22, 24, 25, 26, 27, 28, 30, 32, 33, 34, 35, 36, 38, 39, 40, 42, 44, 45, 46, 48, 49, 50, 51, 52, 54, 55, 56, 57, 58, 60, 62, 63, 64, 65, 66, 68, 69, 70, 72, 74, 75, 76, 77, 78, 80, 81, 82, 84, 85, 86, 87, 88, 90, 91, 92, 93, 94, 95, 96, 98, 99]\n"
     ]
    }
   ],
   "source": [
    "result = [number for number in range(1,100) if True in [True for x in range(2,10) if number % x == 0]]\n",
    "print(result)"
   ]
  },
  {
   "cell_type": "markdown",
   "id": "922416b2",
   "metadata": {},
   "source": [
    "## (iii) More Examples"
   ]
  },
  {
   "cell_type": "markdown",
   "id": "88d1b7a9",
   "metadata": {},
   "source": [
    "##### Constructing a dictionary where keys are non-prime numbers less than 100, and values are sets containing all pairs of factors of that number:"
   ]
  },
  {
   "cell_type": "code",
   "execution_count": 11,
   "id": "88818b2a",
   "metadata": {},
   "outputs": [
    {
     "name": "stdout",
     "output_type": "stream",
     "text": [
      "{4: {1, 2, 4}, 6: {1, 2, 3, 6}, 8: {8, 1, 2, 4}, 9: {1, 3, 9}, 10: {1, 2, 10, 5}, 12: {1, 2, 3, 4, 6, 12}, 14: {1, 2, 14, 7}, 15: {1, 3, 5, 15}, 16: {1, 2, 4, 8, 16}, 18: {1, 2, 3, 6, 9, 18}, 20: {1, 2, 4, 5, 10, 20}, 21: {1, 3, 21, 7}, 22: {1, 2, 11, 22}, 24: {1, 2, 3, 4, 6, 8, 12, 24}, 25: {1, 5, 25}, 26: {1, 2, 26, 13}, 27: {3, 1, 27, 9}, 28: {1, 2, 4, 7, 14, 28}, 30: {1, 2, 3, 5, 6, 10, 15, 30}, 32: {32, 1, 2, 4, 8, 16}, 33: {3, 1, 11, 33}, 34: {1, 2, 34, 17}, 35: {1, 35, 5, 7}, 36: {1, 2, 3, 4, 36, 6, 9, 12, 18}, 38: {1, 2, 19, 38}, 39: {1, 3, 13, 39}, 40: {1, 2, 4, 5, 8, 40, 10, 20}, 42: {1, 2, 3, 6, 7, 42, 14, 21}, 44: {1, 2, 4, 11, 44, 22}, 45: {1, 3, 5, 9, 45, 15}, 46: {1, 2, 46, 23}, 48: {1, 2, 3, 4, 6, 8, 12, 16, 48, 24}, 49: {1, 7, 49}, 50: {1, 2, 5, 10, 50, 25}, 51: {1, 3, 17, 51}, 52: {1, 2, 4, 13, 52, 26}, 54: {1, 2, 3, 6, 9, 18, 54, 27}, 55: {1, 11, 5, 55}, 56: {1, 2, 4, 7, 8, 14, 56, 28}, 57: {3, 1, 19, 57}, 58: {1, 2, 58, 29}, 60: {1, 2, 3, 4, 5, 6, 10, 12, 15, 20, 60, 30}, 62: {1, 2, 62, 31}, 63: {1, 3, 7, 9, 21, 63}, 64: {32, 1, 2, 64, 4, 8, 16}, 65: {65, 5, 13, 1}, 66: {1, 2, 3, 66, 33, 6, 11, 22}, 68: {1, 2, 34, 4, 68, 17}, 69: {1, 3, 69, 23}, 70: {1, 2, 35, 5, 70, 7, 10, 14}, 72: {1, 2, 3, 4, 36, 6, 8, 9, 72, 12, 18, 24}, 74: {1, 2, 37, 74}, 75: {1, 3, 5, 75, 15, 25}, 76: {1, 2, 4, 38, 76, 19}, 77: {1, 11, 77, 7}, 78: {1, 2, 3, 6, 39, 13, 78, 26}, 80: {1, 2, 4, 5, 8, 40, 10, 16, 80, 20}, 81: {1, 3, 9, 81, 27}, 82: {1, 2, 82, 41}, 84: {1, 2, 3, 4, 6, 7, 42, 12, 14, 84, 21, 28}, 85: {1, 5, 85, 17}, 86: {1, 2, 43, 86}, 87: {1, 3, 29, 87}, 88: {1, 2, 4, 8, 11, 44, 22, 88}, 90: {1, 2, 3, 5, 6, 9, 10, 45, 15, 18, 90, 30}, 91: {1, 91, 13, 7}, 92: {1, 2, 4, 46, 23, 92}, 93: {1, 3, 93, 31}, 94: {1, 2, 94, 47}, 95: {1, 19, 5, 95}, 96: {32, 1, 2, 3, 4, 96, 6, 8, 12, 16, 48, 24}, 98: {1, 2, 98, 7, 14, 49}, 99: {1, 33, 99, 3, 9, 11}, 100: {1, 2, 100, 4, 5, 10, 50, 20, 25}}\n"
     ]
    }
   ],
   "source": [
    "def get_factors(num):\n",
    "    return {x for x in range(1, num + 1) if num % x == 0}\n",
    "\n",
    "non_primes = {num for num in range(2, 101) if any(num % i == 0 for i in range(2, num))}\n",
    "non_prime_factors_dict = {non_prime: {factor for factor in get_factors(non_prime)} for non_prime in non_primes}\n",
    "print(non_prime_factors_dict)"
   ]
  },
  {
   "cell_type": "markdown",
   "id": "cb5d7e9f",
   "metadata": {},
   "source": [
    "##### Write a Python script for calculating the sum of the positive and negative numbers of a given list using lambda and filter.\n",
    "Output structure:\n",
    "\n",
    "    Given list: [4, 5, 10, -4, -2, 8, -10]\n",
    "    Sum of positive numbers:  27\n",
    "    Sum of negative numbers:  -16\n"
   ]
  },
  {
   "cell_type": "code",
   "execution_count": 12,
   "id": "b2ba125a",
   "metadata": {},
   "outputs": [],
   "source": [
    "list1=[4, 5, 10, -4, -2, 8, -10]\n",
    "pos_list = sum(filter(lambda n: n >=0, list1))\n",
    "neg_list = sum(filter(lambda n: n<0, list1))"
   ]
  },
  {
   "cell_type": "markdown",
   "id": "1c1615cd",
   "metadata": {},
   "source": [
    "##### Write a Python script using python’s “sorted” function (and lambda) to sort a list of dictionaries based on the age key.\n",
    "\n",
    "output structure:\n",
    "\n",
    "\tGiven dictionary: [{‘name’:’Zahra’, ‘age’:26, ‘salary’:100},{‘name’:’Fatemeh’, ‘age’:21, ‘salary’:50}, {‘name’:’Mobina’, ‘age’:32, ‘salary’:250},{‘name’:’Hanieh’, ‘age’:17, ‘salary’:10}]\n",
    "\tSorted list: [{‘name’:’Hanieh’, ‘age’:17, ‘salary’:10},{‘name’:’Fatemeh’, ‘age’:21, ‘salary’:50},{‘name’:’Zahra’, ‘age’:26, ‘salary’:100}, {‘name’:’Mobina’, ‘age’:32, ‘salary’:250}]\n"
   ]
  },
  {
   "cell_type": "code",
   "execution_count": 13,
   "id": "3e4b2241",
   "metadata": {},
   "outputs": [
    {
     "data": {
      "text/plain": [
       "[{'name': 'Hanieh', 'age': 17, 'salary': 10},\n",
       " {'name': 'Fatemeh', 'age': 21, 'salary': 50},\n",
       " {'name': 'Zahra', 'age': 26, 'salary': 100},\n",
       " {'name': 'Mobina', 'age': 32, 'salary': 250}]"
      ]
     },
     "execution_count": 13,
     "metadata": {},
     "output_type": "execute_result"
    }
   ],
   "source": [
    "dic=[{'name':'Zahra', 'age':26, 'salary':100},{'name':'Fatemeh', 'age':21, \\\n",
    "  'salary':50}, {'name':'Mobina', 'age':32, 'salary':250},{'name':'Hanieh', 'age':17, 'salary':10}]\n",
    "result = sorted(dic, key= lambda x: x['age'])\n",
    "result"
   ]
  },
  {
   "cell_type": "markdown",
   "id": "b56ef8ee",
   "metadata": {},
   "source": [
    "##### Using lambda and reduce, create Fibonacci series up to n.\n",
    "\n",
    "\tOutput structure:\n",
    "\t\tfib(5) = [0, 1, 1, 2, 3]\n"
   ]
  },
  {
   "cell_type": "code",
   "execution_count": 14,
   "id": "6a1f6a1e",
   "metadata": {},
   "outputs": [
    {
     "data": {
      "text/plain": [
       "[0, 1, 1, 2, 3]"
      ]
     },
     "execution_count": 14,
     "metadata": {},
     "output_type": "execute_result"
    }
   ],
   "source": [
    "from functools import reduce\n",
    "fib = lambda n : reduce(lambda x, _: x + [x[-1] + x[-2]] , range(n-2), [0,1])\n",
    "fib(5)"
   ]
  },
  {
   "cell_type": "markdown",
   "id": "98b7aee9",
   "metadata": {},
   "source": [
    "#### Using lambda, write a python script to count the number of times that items in a given list appear in the list. The output should be declared in a dictionary.\n",
    "\n",
    "    Output structure:\n",
    "        Original list: [0,0,1,0,2,2,2,3,5,4]\n",
    "    Count dictionary: {0: 3, 2: 3, 3: 1, 4: 1, 5: 1}\n"
   ]
  },
  {
   "cell_type": "code",
   "execution_count": 15,
   "id": "35c918df",
   "metadata": {},
   "outputs": [
    {
     "data": {
      "text/plain": [
       "{0: 3, 1: 1, 2: 3, 3: 1, 5: 1, 4: 1}"
      ]
     },
     "execution_count": 15,
     "metadata": {},
     "output_type": "execute_result"
    }
   ],
   "source": [
    "list1 = [0,0,1,0,2,2,2,3,5,4]\n",
    "dic = {key: list1.count(key)  for key in list1}\n",
    "dic"
   ]
  },
  {
   "cell_type": "markdown",
   "id": "4b2367bb",
   "metadata": {},
   "source": [
    "##### Use list comprehension to calculate the list of prime numbers up to given number n."
   ]
  },
  {
   "cell_type": "code",
   "execution_count": 16,
   "id": "447cb047",
   "metadata": {},
   "outputs": [],
   "source": [
    "n = 100\n",
    "result = [i for i in range(2,n+1) if not any([True for j in range(2,i) if i%j==0])]"
   ]
  },
  {
   "cell_type": "markdown",
   "id": "4a1cb77c",
   "metadata": {},
   "source": [
    "## (iv) Zip"
   ]
  },
  {
   "cell_type": "markdown",
   "id": "4dfb1249",
   "metadata": {},
   "source": [
    "Let's say you have a list of lists, where each inner list represents a student's scores for different subjects. You want to calculate the average score for each subject across all students. "
   ]
  },
  {
   "cell_type": "code",
   "execution_count": 17,
   "id": "b6695d7c",
   "metadata": {},
   "outputs": [
    {
     "name": "stdout",
     "output_type": "stream",
     "text": [
      "Average score in Math: 84.67\n",
      "Average score in Science: 89.00\n",
      "Average score in History: 91.00\n",
      "Average score in English: 88.33\n"
     ]
    }
   ],
   "source": [
    "scores = [\n",
    "    [85, 90, 88, 92],\n",
    "    [79, 85, 91, 86],\n",
    "    [90, 92, 94, 87]\n",
    "]\n",
    "\n",
    "# Transpose the data using zip() and unpacking\n",
    "transposed_scores = zip(*scores)\n",
    "\n",
    "# Calculate the average score for each subject\n",
    "averages = [sum(subject_scores) / len(scores) for subject_scores in transposed_scores]\n",
    "\n",
    "# Print the averages\n",
    "for subject, average in zip(['Math', 'Science', 'History', 'English'], averages):\n",
    "    print(f\"Average score in {subject}: {average:.2f}\")\n",
    "\n",
    "# Output:\n",
    "# Average score in Math: 84.67\n",
    "# Average score in Science: 89.00\n",
    "# Average score in History: 91.00\n",
    "# Average score in English: 88.33"
   ]
  },
  {
   "cell_type": "markdown",
   "id": "253badf5",
   "metadata": {},
   "source": [
    "Suppose you have data representing the performance of different students in quizzes, assignments, and exams. Each student is represented by a tuple containing their name and their scores for each assessment. Your task is to calculate the total score for each student and print their name along with their total score."
   ]
  },
  {
   "cell_type": "code",
   "execution_count": 18,
   "id": "12d5e7b1",
   "metadata": {},
   "outputs": [
    {
     "name": "stdout",
     "output_type": "stream",
     "text": [
      "Alice: Total Score: 263\n",
      "Bob: Total Score: 255\n",
      "Charlie: Total Score: 276\n"
     ]
    }
   ],
   "source": [
    "# Data representing student names and their scores for quizzes, assignments, and exams\n",
    "student_data = [\n",
    "    ('Alice', 85, 90, 88),\n",
    "    ('Bob', 79, 85, 91),\n",
    "    ('Charlie', 90, 92, 94)\n",
    "]\n",
    "\n",
    "# Calculate the total score for each student\n",
    "total_scores = [sum(scores[1:]) for scores in student_data]\n",
    "\n",
    "# Print each student's name along with their total score\n",
    "for student, total_score in zip(student_data, total_scores):\n",
    "    print(f\"{student[0]}: Total Score: {total_score}\")\n",
    "\n",
    "# Output:\n",
    "# Alice: Total Score: 263\n",
    "# Bob: Total Score: 255\n",
    "# Charlie: Total Score: 276\n"
   ]
  },
  {
   "cell_type": "markdown",
   "id": "359f84c4",
   "metadata": {},
   "source": [
    "## (v) Generator"
   ]
  },
  {
   "cell_type": "markdown",
   "id": "6502e63f",
   "metadata": {},
   "source": [
    "implement a generator for Fibonacci numbers"
   ]
  },
  {
   "cell_type": "code",
   "execution_count": 19,
   "id": "1790ee0e",
   "metadata": {},
   "outputs": [
    {
     "name": "stdout",
     "output_type": "stream",
     "text": [
      "0\n",
      "1\n",
      "1\n",
      "2\n",
      "3\n",
      "5\n",
      "8\n",
      "13\n",
      "21\n",
      "34\n",
      "55\n",
      "89\n"
     ]
    }
   ],
   "source": [
    "def fibonacci_generator(num):\n",
    "    # Initialize the first two Fibonacci numbers\n",
    "    a, b = 0, 1\n",
    "    \n",
    "    # Generate Fibonacci numbers up to the limit\n",
    "    while a <= num:\n",
    "        yield a\n",
    "        a, b = b, a + b\n",
    "\n",
    "# Generate Fibonacci numbers up to 100\n",
    "fibonacci_sequence = fibonacci_generator(100)\n",
    "\n",
    "# Print the generated Fibonacci numbers\n",
    "for number in fibonacci_sequence:\n",
    "    print(number)"
   ]
  },
  {
   "cell_type": "code",
   "execution_count": null,
   "id": "1ba17757",
   "metadata": {},
   "outputs": [],
   "source": []
  }
 ],
 "metadata": {
  "kernelspec": {
   "display_name": "Python 3 (ipykernel)",
   "language": "python",
   "name": "python3"
  },
  "language_info": {
   "codemirror_mode": {
    "name": "ipython",
    "version": 3
   },
   "file_extension": ".py",
   "mimetype": "text/x-python",
   "name": "python",
   "nbconvert_exporter": "python",
   "pygments_lexer": "ipython3",
   "version": "3.11.1"
  }
 },
 "nbformat": 4,
 "nbformat_minor": 5
}
