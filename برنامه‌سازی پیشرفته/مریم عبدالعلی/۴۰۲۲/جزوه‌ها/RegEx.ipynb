{
 "cells": [
  {
   "cell_type": "markdown",
   "metadata": {},
   "source": [
    "## Regular Expressions (Regex)\n",
    "credit: \n",
    "- https://realpython.com/regex-python/\n",
    "- https://people.computing.clemson.edu/~jmarty/courses/LinuxStuff/Python%20Regular%20Expressions%20with%20Examples%20-%20Linux%20Tutorials%20-%20Learn%20Linux%20Configuration.pdf\n",
    "\n",
    "Regular expressions (regex) are powerful tools for matching text patterns in Python. Regex can be used to search for specific text strings, replace certain text strings, validate input, and more. Regex is an essential part of any programming language and Python has a strong regex library that is easy to use.\n",
    "\n",
    "Regex functionality in Python resides in a module named `re`."
   ]
  },
  {
   "cell_type": "code",
   "execution_count": 1,
   "metadata": {},
   "outputs": [],
   "source": [
    "import re"
   ]
  },
  {
   "cell_type": "markdown",
   "metadata": {},
   "source": [
    "Once the module is imported, you can search for patterns in strings using the re.search() function. This function takes two arguments:\n",
    "\n",
    "- The pattern that we are trying to match\n",
    "- The string which we are searching\n",
    "\n",
    "`re.search(<regex>, <string>)`\n",
    "    \n",
    "Scans a string for a regex match."
   ]
  },
  {
   "cell_type": "code",
   "execution_count": 34,
   "metadata": {},
   "outputs": [
    {
     "data": {
      "text/plain": [
       "<re.Match object; span=(3, 6), match='123'>"
      ]
     },
     "execution_count": 34,
     "metadata": {},
     "output_type": "execute_result"
    }
   ],
   "source": [
    "s = 'foo123bar'\n",
    "re.search('123', s) #returns a match object, span=(3, 6) indicates the portion of <string> in which the match was found."
   ]
  },
  {
   "cell_type": "markdown",
   "metadata": {},
   "source": [
    "Cool! But `in` & `find` methods of `str` class was doing the same, no?"
   ]
  },
  {
   "cell_type": "markdown",
   "metadata": {},
   "source": [
    "### Python Regex Metacharacters\n",
    "\n",
    "The real power of regex matching in Python emerges when `<regex>` contains special characters called metacharacters. These have a unique meaning to the regex matching engine and vastly enhance the capability of the search.\n",
    "\n",
    "The following table briefly summarizes all the metacharacters supported by the re module. Some characters serve more than one purpose:"
   ]
  },
  {
   "cell_type": "markdown",
   "metadata": {},
   "source": [
    "| Character(s)  |\tMeaning |\n",
    "|---            |---         |\n",
    "|.              |\tAny character, except newline|\n",
    "|^\t            |   Start of string |\n",
    "|$              |\tEnd of a string |\n",
    "|*              |\tAny number of matches (0 or more)|\n",
    "|+              |\t1 or more matches|\n",
    "|?              |\t0 or 1 match|\n",
    "|{n}            |\tExactly n matches|\n",
    "|[a-c]          | One character of the selected range, in this case a,b,c |\n",
    "|[A-Z]          | One character of the selected range, in this case A-Z |\n",
    "|[0-9AF-Z]      | One character of the selected range, in this case 0-9, A, and F-Z |\n",
    "|[^A-Za-z]      | Caret, One character outside of the selected range, in this case for example ‘1’ would qualify |\n",
    "| a\\|d            | One character out of the two (an alternative to using []), ‘a’ or ‘d’ |\n",
    "|\\              |\t\\ Escapes special characters |\n",
    "|\\s             | white spaces [ \\t\\n\\r\\f]  (tab,newline,carriage return,form feed)|\n",
    "|\\d             | digits [0-9]          |\n",
    "|\\w             | “word” chars [a-zA-Z0-9_] |\n",
    "|\\S             | non-spaces [^ \\t\\n\\r\\f\\v] |\n",
    "|\\D             | non-digits [^0-9]         |\n",
    "|\\W             | non-word chars [^a-zA-Z0-9_] |\n",
    "|<>             |\tCreates a named group   |\n",
    "|\\b             | match to a word boundary |\n",
    "|()             | Grouping|"
   ]
  },
  {
   "cell_type": "markdown",
   "metadata": {},
   "source": [
    "### Simple Examples!"
   ]
  },
  {
   "cell_type": "code",
   "execution_count": 3,
   "metadata": {},
   "outputs": [
    {
     "name": "stdout",
     "output_type": "stream",
     "text": [
      "<re.Match object; span=(3, 4), match='b'>\n"
     ]
    }
   ],
   "source": [
    "print(re.search('[a-z]', 'FOObar')) #  matches any lowercase alphabetic character between 'a' and 'z'"
   ]
  },
  {
   "cell_type": "code",
   "execution_count": 4,
   "metadata": {},
   "outputs": [
    {
     "name": "stdout",
     "output_type": "stream",
     "text": [
      "<re.Match object; span=(3, 5), match='12'>\n"
     ]
    }
   ],
   "source": [
    "print(re.search('[0-9][0-9]', 'foo123bar')) # matches a sequence of two digits"
   ]
  },
  {
   "cell_type": "code",
   "execution_count": 5,
   "metadata": {},
   "outputs": [
    {
     "name": "stdout",
     "output_type": "stream",
     "text": [
      "<re.Match object; span=(5, 6), match='f'>\n"
     ]
    }
   ],
   "source": [
    "print(re.search('[^0-9]', '12345foo')) # matches any character that isn’t a digit"
   ]
  },
  {
   "cell_type": "code",
   "execution_count": 6,
   "metadata": {},
   "outputs": [
    {
     "name": "stdout",
     "output_type": "stream",
     "text": [
      "<re.Match object; span=(3, 4), match='a'>\n"
     ]
    }
   ],
   "source": [
    "print(re.search('\\w', '#(.a$@&'))"
   ]
  },
  {
   "cell_type": "code",
   "execution_count": 7,
   "metadata": {},
   "outputs": [
    {
     "name": "stdout",
     "output_type": "stream",
     "text": [
      "<re.Match object; span=(4, 5), match='f'>\n"
     ]
    }
   ],
   "source": [
    "print(re.search('\\S', '  \\n foo  \\n  ')) # matches any character that isn’t whitespace"
   ]
  },
  {
   "cell_type": "code",
   "execution_count": 8,
   "metadata": {},
   "outputs": [
    {
     "name": "stdout",
     "output_type": "stream",
     "text": [
      "<re.Match object; span=(0, 1), match='f'>\n",
      "<re.Match object; span=(3, 4), match='.'>\n"
     ]
    }
   ],
   "source": [
    "print(re.search('.', 'foo.bar')) # matches the first character in the string \n",
    "print(re.search('\\.', 'foo.bar')) # interpreted literally and matches the '.' at index 3"
   ]
  },
  {
   "cell_type": "code",
   "execution_count": 9,
   "metadata": {},
   "outputs": [
    {
     "name": "stdout",
     "output_type": "stream",
     "text": [
      "None\n"
     ]
    }
   ],
   "source": [
    "print(re.search('^foo', 'barfoo')) #'foo' must be present at the beginning"
   ]
  },
  {
   "cell_type": "markdown",
   "metadata": {},
   "source": [
    "The `r` at the start of the pattern string designates a python \"raw\" string which passes through backslashes without change which is very handy for regular expressions.\n",
    "\n",
    "For example: Note that in Python, `\\b` is used as an escape sequence for the backspace character. To use it within a regular expression, we have to treat it as `raw` text."
   ]
  },
  {
   "cell_type": "code",
   "execution_count": 28,
   "metadata": {},
   "outputs": [
    {
     "name": "stdout",
     "output_type": "stream",
     "text": [
      "<re.Match object; span=(4, 7), match='bar'>\n",
      "<re.Match object; span=(4, 7), match='bar'>\n",
      "None\n",
      "<re.Match object; span=(0, 3), match='foo'>\n",
      "<re.Match object; span=(0, 3), match='foo'>\n",
      "None\n",
      "<re.Match object; span=(4, 7), match='bar'>\n",
      "<re.Match object; span=(4, 7), match='bar'>\n",
      "None\n"
     ]
    }
   ],
   "source": [
    "print(re.search(r'\\bbar', 'foo bar'))\n",
    "print(re.search(r'\\bbar', 'foo.bar'))\n",
    "print(re.search(r'\\bbar', 'foobar'))\n",
    "print(re.search(r'foo\\b', 'foo bar'))\n",
    "print(re.search(r'foo\\b', 'foo.bar'))\n",
    "print(re.search(r'foo\\b', 'foobar'))\n",
    "print(re.search(r'\\bbar\\b', 'foo bar baz'))\n",
    "print(re.search(r'\\bbar\\b', 'foo(bar)baz'))\n",
    "print(re.search(r'\\bbar\\b', 'foobarbaz'))"
   ]
  },
  {
   "cell_type": "code",
   "execution_count": 36,
   "metadata": {},
   "outputs": [
    {
     "name": "stdout",
     "output_type": "stream",
     "text": [
      "<re.Match object; span=(0, 6), match='foobar'>\n",
      "<re.Match object; span=(0, 7), match='foo-bar'>\n",
      "<re.Match object; span=(0, 8), match='foo--bar'>\n"
     ]
    }
   ],
   "source": [
    "print(re.search('foo-*bar', 'foobar'))\n",
    "print(re.search('foo-*bar', 'foo-bar'))\n",
    "print(re.search('foo-*bar', 'foo--bar'))"
   ]
  },
  {
   "cell_type": "code",
   "execution_count": 12,
   "metadata": {},
   "outputs": [
    {
     "name": "stdout",
     "output_type": "stream",
     "text": [
      "None\n",
      "<re.Match object; span=(0, 8), match='foo--bar'>\n"
     ]
    }
   ],
   "source": [
    "print(re.search('foo-+bar', 'foobar'))\n",
    "print(re.search('foo-+bar', 'foo--bar'))"
   ]
  },
  {
   "cell_type": "code",
   "execution_count": 13,
   "metadata": {},
   "outputs": [
    {
     "name": "stdout",
     "output_type": "stream",
     "text": [
      "<re.Match object; span=(0, 6), match='foobar'>\n",
      "<re.Match object; span=(0, 7), match='foo-bar'>\n",
      "None\n"
     ]
    }
   ],
   "source": [
    "print(re.search('foo-?bar', 'foobar'))\n",
    "print(re.search('foo-?bar', 'foo-bar'))\n",
    "print(re.search('foo-?bar', 'foo--bar'))"
   ]
  },
  {
   "cell_type": "code",
   "execution_count": 14,
   "metadata": {},
   "outputs": [
    {
     "name": "stdout",
     "output_type": "stream",
     "text": [
      "<re.Match object; span=(0, 8), match='foo42bar'>\n",
      "None\n"
     ]
    }
   ],
   "source": [
    "print(re.match('foo[1-9]*bar', 'foo42bar'))\n",
    "print(re.match('foo[1-9]?bar', 'foo42bar'))"
   ]
  },
  {
   "cell_type": "code",
   "execution_count": 15,
   "metadata": {},
   "outputs": [
    {
     "name": "stdout",
     "output_type": "stream",
     "text": [
      "<re.Match object; span=(1, 18), match='<foo> <bar> <baz>'>\n",
      "<re.Match object; span=(1, 6), match='<foo>'>\n"
     ]
    }
   ],
   "source": [
    "# greedy vs shortest possible match\n",
    "print(re.search('<.*>', '%<foo> <bar> <baz>%')) # the quantifier metacharacters *, +, and ? are all greedy, meaning they produce the longest possible match\n",
    "print(re.search('<.*?>', '%<foo> <bar> <baz>%')) # shortest possible match instead, using the non-greedy metacharacter sequence *?"
   ]
  },
  {
   "cell_type": "code",
   "execution_count": 16,
   "metadata": {},
   "outputs": [
    {
     "name": "stdout",
     "output_type": "stream",
     "text": [
      "None\n",
      "<re.Match object; span=(0, 5), match='x---x'>\n",
      "None\n"
     ]
    }
   ],
   "source": [
    "print(re.search('x-{3}x', 'x--x'))\n",
    "print(re.search('x-{3}x', 'x---x'))\n",
    "print(re.search('x-{3}x', 'x----x'))"
   ]
  },
  {
   "cell_type": "markdown",
   "metadata": {},
   "source": [
    "a sequence with curly braces must fit one of the following patterns in which m and n are nonnegative integers:\n",
    "\n",
    "- {m,n} match at least m times and at most n times\n",
    "- {m,}  match at least m times\n",
    "- {,n} match at most n times\n",
    "Otherwise, it matches literally:"
   ]
  },
  {
   "cell_type": "code",
   "execution_count": 37,
   "metadata": {},
   "outputs": [
    {
     "name": "stdout",
     "output_type": "stream",
     "text": [
      "<re.Match object; span=(0, 5), match='aaaaa'>\n"
     ]
    }
   ],
   "source": [
    "print(re.search('a{3,5}', 'aaaaaaaa'))"
   ]
  },
  {
   "cell_type": "code",
   "execution_count": 41,
   "metadata": {},
   "outputs": [
    {
     "name": "stdout",
     "output_type": "stream",
     "text": [
      "<re.Match object; span=(4, 10), match='barbar'>\n",
      "<re.Match object; span=(4, 7), match='bar'>\n"
     ]
    }
   ],
   "source": [
    "print(re.search('(bar)+', 'foo barbar baz'))\n",
    "print(re.search('bar+', 'foo barbar baz'))"
   ]
  },
  {
   "cell_type": "code",
   "execution_count": 47,
   "metadata": {},
   "outputs": [
    {
     "name": "stdout",
     "output_type": "stream",
     "text": [
      "<re.Match object; span=(3, 4), match='\\\\'>\n"
     ]
    }
   ],
   "source": [
    "print(re.search(r'\\\\', 'foo\\\\bar'))"
   ]
  },
  {
   "cell_type": "markdown",
   "metadata": {},
   "source": [
    "### Searching Functions"
   ]
  },
  {
   "cell_type": "markdown",
   "metadata": {},
   "source": [
    "1. `re.search()`\tScans a string for a regex match (we have already seen this one). The function returns a match object if it finds a match and None otherwise"
   ]
  },
  {
   "cell_type": "markdown",
   "metadata": {},
   "source": [
    "2. `re.match()` This is identical to re.search(), except that re.search() returns a match if `<regex>` matches anywhere in `<string>`, whereas re.match() returns a match only if `<regex>` matches at the beginning of `<string>`"
   ]
  },
  {
   "cell_type": "markdown",
   "metadata": {},
   "source": [
    "difference between `search` and `match`:"
   ]
  },
  {
   "cell_type": "code",
   "execution_count": 20,
   "metadata": {},
   "outputs": [
    {
     "name": "stdout",
     "output_type": "stream",
     "text": [
      "<re.Match object; span=(0, 3), match='123'>\n",
      "<re.Match object; span=(3, 6), match='123'>\n",
      "<re.Match object; span=(0, 3), match='123'>\n",
      "None\n"
     ]
    }
   ],
   "source": [
    "print(re.search(r'\\d+', '123foobar'))\n",
    "print(re.search(r'\\d+', 'foo123bar'))\n",
    "\n",
    "print(re.match(r'\\d+', '123foobar'))\n",
    "print(re.match(r'\\d+', 'foo123bar'))"
   ]
  },
  {
   "cell_type": "markdown",
   "metadata": {},
   "source": [
    "3. `re.fullmatch()` This is similar to re.search() and re.match(), but re.fullmatch() returns a match only if `<regex>` matches `<string>` in its entirety"
   ]
  },
  {
   "cell_type": "code",
   "execution_count": 48,
   "metadata": {},
   "outputs": [
    {
     "name": "stdout",
     "output_type": "stream",
     "text": [
      "None\n",
      "None\n",
      "None\n",
      "<re.Match object; span=(0, 3), match='123'>\n",
      "<re.Match object; span=(0, 3), match='123'>\n"
     ]
    }
   ],
   "source": [
    "print(re.fullmatch(r'\\d+', '123foo'))\n",
    "print(re.fullmatch(r'\\d+', 'foo123'))\n",
    "print(re.fullmatch(r'\\d+', 'foo123bar'))\n",
    "print(re.fullmatch(r'\\d+', '123'))\n",
    "print(re.search(r'^\\d+$', '123'))"
   ]
  },
  {
   "cell_type": "markdown",
   "metadata": {},
   "source": [
    "4. `re.findall()` returns a list of all non-overlapping matches of `<regex>` in `<string>`. It scans the search string from left to right and returns all matches in the order found:"
   ]
  },
  {
   "cell_type": "code",
   "execution_count": 22,
   "metadata": {},
   "outputs": [
    {
     "name": "stdout",
     "output_type": "stream",
     "text": [
      "['foo', 'bar', 'baz']\n"
     ]
    }
   ],
   "source": [
    "print(re.findall(r'\\w+', '...foo,,,,bar:%$baz//|'))"
   ]
  },
  {
   "cell_type": "code",
   "execution_count": 49,
   "metadata": {},
   "outputs": [
    {
     "data": {
      "text/plain": [
       "[('foo', 'bar'), ('baz', 'qux'), ('quux', 'corge')]"
      ]
     },
     "execution_count": 49,
     "metadata": {},
     "output_type": "execute_result"
    }
   ],
   "source": [
    "re.findall(r'(\\w+),(\\w+)', 'foo,bar,baz,qux,quux,corge')"
   ]
  },
  {
   "cell_type": "markdown",
   "metadata": {},
   "source": [
    "### Substitution Function"
   ]
  },
  {
   "cell_type": "markdown",
   "metadata": {},
   "source": [
    "`re.sub(<regex>, <repl>, <string>)` finds the leftmost non-overlapping occurrences of `<regex>` in `<string>`, replaces each match as indicated by `<repl>`, and returns the result. `<string>` remains unchanged."
   ]
  },
  {
   "cell_type": "code",
   "execution_count": 51,
   "metadata": {},
   "outputs": [
    {
     "name": "stdout",
     "output_type": "stream",
     "text": [
      "foo.#.bar.#.baz\n"
     ]
    }
   ],
   "source": [
    "s = 'foo.123.bar.789.baz'\n",
    "print(re.sub(r'\\d+', '#', s))"
   ]
  }
 ],
 "metadata": {
  "kernelspec": {
   "display_name": "Python 3",
   "language": "python",
   "name": "python3"
  },
  "language_info": {
   "codemirror_mode": {
    "name": "ipython",
    "version": 3
   },
   "file_extension": ".py",
   "mimetype": "text/x-python",
   "name": "python",
   "nbconvert_exporter": "python",
   "pygments_lexer": "ipython3",
   "version": "3.11.1"
  }
 },
 "nbformat": 4,
 "nbformat_minor": 2
}
