{
 "cells": [
  {
   "cell_type": "markdown",
   "metadata": {},
   "source": [
    "# Basics - String"
   ]
  },
  {
   "cell_type": "markdown",
   "metadata": {},
   "source": [
    "##### Finding the length of a string"
   ]
  },
  {
   "cell_type": "code",
   "execution_count": 1,
   "metadata": {},
   "outputs": [
    {
     "name": "stdout",
     "output_type": "stream",
     "text": [
      "Length of string: 14\n"
     ]
    }
   ],
   "source": [
    "myString = \"Hello, Python!\"\n",
    "stringLength = len(myString)\n",
    "print(\"Length of string:\", stringLength)"
   ]
  },
  {
   "cell_type": "markdown",
   "metadata": {},
   "source": [
    "##### Converting a string to uppercase"
   ]
  },
  {
   "cell_type": "code",
   "execution_count": 2,
   "metadata": {},
   "outputs": [
    {
     "name": "stdout",
     "output_type": "stream",
     "text": [
      "Uppercase string: HELLO, PYTHON!\n"
     ]
    }
   ],
   "source": [
    "myString = \"Hello, Python!\"\n",
    "upperString = myString.upper()\n",
    "print(\"Uppercase string:\", upperString)"
   ]
  },
  {
   "cell_type": "markdown",
   "metadata": {},
   "source": [
    "##### Replacing characters in a string"
   ]
  },
  {
   "cell_type": "code",
   "execution_count": 1,
   "metadata": {},
   "outputs": [
    {
     "name": "stdout",
     "output_type": "stream",
     "text": [
      "Replaced string: Hello, World! World\n"
     ]
    }
   ],
   "source": [
    "myString = \"Hello, Python!\"\n",
    "replacedString = myString.replace(\"Python\", \"World\")\n",
    "print(\"Replaced string:\", replacedString)"
   ]
  },
  {
   "cell_type": "markdown",
   "metadata": {},
   "source": [
    "##### Counting the occurrences of a character in a string"
   ]
  },
  {
   "cell_type": "code",
   "execution_count": 4,
   "metadata": {},
   "outputs": [
    {
     "name": "stdout",
     "output_type": "stream",
     "text": [
      "Number of occurrences of 'l': 2\n"
     ]
    }
   ],
   "source": [
    "myString = \"Hello, Python!\"\n",
    "count = myString.count(\"l\")\n",
    "print(\"Number of occurrences of 'l':\", count)"
   ]
  },
  {
   "cell_type": "markdown",
   "metadata": {},
   "source": [
    "##### Finding the index of a character in a string"
   ]
  },
  {
   "cell_type": "code",
   "execution_count": 6,
   "metadata": {},
   "outputs": [
    {
     "name": "stdout",
     "output_type": "stream",
     "text": [
      "Index of character 'P': 7\n"
     ]
    }
   ],
   "source": [
    "myString = \"Hello, Python!\"\n",
    "index = myString.index(\"P\")\n",
    "print(\"Index of character 'P':\", index)"
   ]
  },
  {
   "cell_type": "markdown",
   "metadata": {},
   "source": [
    "##### Checking if a string starts with a specific substring"
   ]
  },
  {
   "cell_type": "code",
   "execution_count": 7,
   "metadata": {},
   "outputs": [
    {
     "name": "stdout",
     "output_type": "stream",
     "text": [
      "Does the string start with 'Hello'? : True\n"
     ]
    }
   ],
   "source": [
    "myString = \"Hello, Python!\"\n",
    "startsWith = myString.startswith(\"Hello\")\n",
    "print(\"Does the string start with 'Hello'? :\", startsWith)"
   ]
  },
  {
   "cell_type": "markdown",
   "metadata": {},
   "source": [
    "##### Checking if a string ends with a specific substring"
   ]
  },
  {
   "cell_type": "code",
   "execution_count": 8,
   "metadata": {},
   "outputs": [
    {
     "name": "stdout",
     "output_type": "stream",
     "text": [
      "Does the string end with 'Python!'? : True\n"
     ]
    }
   ],
   "source": [
    "myString = \"Hello, Python!\"\n",
    "endsWith = myString.endswith(\"Python!\")\n",
    "print(\"Does the string end with 'Python!'? :\", endsWith)"
   ]
  },
  {
   "cell_type": "markdown",
   "metadata": {},
   "source": [
    "##### Joining a list of strings"
   ]
  },
  {
   "cell_type": "code",
   "execution_count": 2,
   "metadata": {},
   "outputs": [
    {
     "name": "stdout",
     "output_type": "stream",
     "text": [
      "Joined string: Hello Python World\n"
     ]
    }
   ],
   "source": [
    "myList = [\"Hello\", \"Python\", \"World\"]\n",
    "joinedString = \" \".join(myList)\n",
    "print(\"Joined string:\", joinedString)"
   ]
  },
  {
   "cell_type": "markdown",
   "metadata": {},
   "source": [
    "##### Splitting a string"
   ]
  },
  {
   "cell_type": "code",
   "execution_count": 3,
   "metadata": {},
   "outputs": [
    {
     "name": "stdout",
     "output_type": "stream",
     "text": [
      "Splitted string: ['Hello,', 'Python!', 'How', 'are', 'you?']\n"
     ]
    }
   ],
   "source": [
    "myString = \"Hello, Python! How are you?\"\n",
    "splittedString = myString.split(\" \")\n",
    "print(\"Splitted string:\", splittedString)"
   ]
  },
  {
   "cell_type": "markdown",
   "metadata": {},
   "source": [
    "source: https://pythonistaplanet.com/15-python-string-manipulation-exercises-and-examples/"
   ]
  }
 ],
 "metadata": {
  "kernelspec": {
   "display_name": "Python 3",
   "language": "python",
   "name": "python3"
  },
  "language_info": {
   "codemirror_mode": {
    "name": "ipython",
    "version": 3
   },
   "file_extension": ".py",
   "mimetype": "text/x-python",
   "name": "python",
   "nbconvert_exporter": "python",
   "pygments_lexer": "ipython3",
   "version": "3.11.1"
  },
  "orig_nbformat": 4
 },
 "nbformat": 4,
 "nbformat_minor": 2
}
