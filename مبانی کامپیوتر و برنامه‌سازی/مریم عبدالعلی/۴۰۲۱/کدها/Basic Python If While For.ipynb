{
 "cells": [
  {
   "cell_type": "markdown",
   "id": "0aeafcaf",
   "metadata": {},
   "source": [
    "# Write a Python program to construct the following pattern, using a nested for loop.\n",
    "\n",
    "* \n",
    "* * \n",
    "* * * \n",
    "* * * * \n",
    "* * * * * \n",
    "* * * * \n",
    "* * * \n",
    "* * \n",
    "*\n"
   ]
  },
  {
   "cell_type": "code",
   "execution_count": null,
   "id": "cc93c5b0",
   "metadata": {},
   "outputs": [],
   "source": [
    "n=5;\n",
    "for i in range(n):\n",
    "    for j in range(i):\n",
    "        print ('* ', end=\"\") # or replace these three lines by print ('* ' * i)\n",
    "    print('')\n",
    "\n",
    "for i in range(n,0,-1):\n",
    "    for j in range(i):\n",
    "        print('* ', end=\"\")\n",
    "    print('')"
   ]
  },
  {
   "cell_type": "markdown",
   "id": "d66d071f",
   "metadata": {},
   "source": [
    "# Write a Python program to get the Fibonacci series between 0 to 50."
   ]
  },
  {
   "cell_type": "code",
   "execution_count": null,
   "id": "df95d7f0",
   "metadata": {},
   "outputs": [],
   "source": [
    "x,y=0,1\n",
    "\n",
    "while y<50:\n",
    "    print(y)\n",
    "    x,y = y,x+y"
   ]
  },
  {
   "cell_type": "markdown",
   "id": "be23d7a4",
   "metadata": {},
   "source": [
    "# Write a Python program to create the multiplication table (from 1 to 10) of a number."
   ]
  },
  {
   "cell_type": "code",
   "execution_count": 1,
   "id": "b41cb5e7",
   "metadata": {},
   "outputs": [
    {
     "name": "stdout",
     "output_type": "stream",
     "text": [
      "Input a number: 5\n",
      "5 x 1 = 5\n",
      "5 x 2 = 10\n",
      "5 x 3 = 15\n",
      "5 x 4 = 20\n",
      "5 x 5 = 25\n",
      "5 x 6 = 30\n",
      "5 x 7 = 35\n",
      "5 x 8 = 40\n",
      "5 x 9 = 45\n",
      "5 x 10 = 50\n"
     ]
    }
   ],
   "source": [
    "n = int(input(\"Input a number: \"))\n",
    "\n",
    "# use for loop to iterate 10 times\n",
    "for i in range(1,11):\n",
    "   print(n,'x',i,'=',n*i)"
   ]
  },
  {
   "cell_type": "markdown",
   "id": "87796753",
   "metadata": {},
   "source": [
    "# Write a Python program to construct the following pattern\n",
    "1\n",
    "22\n",
    "333\n",
    "4444\n",
    "55555\n",
    "666666\n",
    "7777777\n",
    "88888888\n",
    "999999999"
   ]
  },
  {
   "cell_type": "code",
   "execution_count": null,
   "id": "d19f7f1c",
   "metadata": {},
   "outputs": [],
   "source": [
    "for i in range(10):\n",
    "    print(str(i) * i)"
   ]
  },
  {
   "cell_type": "markdown",
   "id": "daae173c",
   "metadata": {},
   "source": [
    "# Write a program to check whether a given number is prime number."
   ]
  },
  {
   "cell_type": "code",
   "execution_count": null,
   "id": "d16d7338",
   "metadata": {},
   "outputs": [],
   "source": [
    "num = 29\n",
    "\n",
    "# To take input from the user\n",
    "#num = int(input(\"Enter a number: \"))\n",
    "\n",
    "# define a flag variable\n",
    "flag = False\n",
    "\n",
    "# prime numbers are greater than 1\n",
    "if num > 1:\n",
    "    # check for factors\n",
    "    for i in range(2, num):\n",
    "        if (num % i) == 0:\n",
    "            # if factor is found, set flag to True\n",
    "            flag = True\n",
    "            # break out of loop\n",
    "            break\n",
    "\n",
    "# check if flag is True\n",
    "if flag:\n",
    "    print(num, \"is not a prime number\")\n",
    "else:\n",
    "    print(num, \"is a prime number\")"
   ]
  },
  {
   "cell_type": "markdown",
   "id": "fff2b2c7",
   "metadata": {},
   "source": [
    "# Write a program to get the least common multiple of two integers."
   ]
  },
  {
   "cell_type": "code",
   "execution_count": null,
   "id": "d6a24b7a",
   "metadata": {},
   "outputs": [],
   "source": [
    "x, y = 4, 16 #15,17\n",
    "\n",
    "if x > y:\n",
    "    z = x\n",
    "else:\n",
    "    z = y\n",
    "while(True):\n",
    "    if((z % x == 0) and (z % y == 0)):\n",
    "        lcm = z\n",
    "        break\n",
    "    z += 1\n",
    "print(lcm)"
   ]
  },
  {
   "cell_type": "markdown",
   "id": "20f00678",
   "metadata": {},
   "source": [
    "# Write a Python program that accepts a string and calculate the number of digits and letters."
   ]
  },
  {
   "cell_type": "code",
   "execution_count": null,
   "id": "ab3cc10d",
   "metadata": {},
   "outputs": [],
   "source": [
    "s = input(\"Input a string\")\n",
    "d=l=0\n",
    "for c in s:\n",
    "    if c.isdigit():\n",
    "        d=d+1\n",
    "    elif c.isalpha():\n",
    "        l=l+1\n",
    "    else:\n",
    "        pass\n",
    "print(\"Letters\", l)\n",
    "print(\"Digits\", d)"
   ]
  },
  {
   "cell_type": "markdown",
   "id": "0635ce85",
   "metadata": {},
   "source": [
    "# how to print word ‘Python’ in\n",
    "\n",
    "P\n",
    "Py\n",
    "Pyt\n",
    "Pyth\n",
    "Pytho\n",
    "Python"
   ]
  },
  {
   "cell_type": "code",
   "execution_count": null,
   "id": "98662e1e",
   "metadata": {},
   "outputs": [],
   "source": [
    "word = \"Python\"\n",
    "x = \"\"\n",
    "for i in word:\n",
    "    x += i\n",
    "    print(x)"
   ]
  },
  {
   "cell_type": "markdown",
   "id": "54926a67",
   "metadata": {},
   "source": [
    "# Pyramid of horizontal number tables\n",
    "\n",
    "1 \n",
    "2 4 \n",
    "3 6 9 \n",
    "4 8 12 16 \n",
    "5 10 15 20 25 \n",
    "6 12 18 24 30 36 \n",
    "7 14 21 28 35 42 49 \n",
    "8 16 24 32 40 48 56 64 \n",
    "9 18 27 36 45 54 63 72 81 \n",
    "10 20 30 40 50 60 70 80 90 100 "
   ]
  },
  {
   "cell_type": "code",
   "execution_count": null,
   "id": "57fa4fcf",
   "metadata": {},
   "outputs": [],
   "source": [
    "rows = 10\n",
    "for i in range(1, rows + 1):\n",
    "    for j in range(1, i + 1):\n",
    "        print(i * j, end=' ')\n",
    "    print()"
   ]
  },
  {
   "cell_type": "markdown",
   "id": "1c1f43d1",
   "metadata": {},
   "source": [
    "# Unique pyramid pattern of digits\n",
    "\n",
    "1 \n",
    "1 2 1 \n",
    "1 2 3 2 1 \n",
    "1 2 3 4 3 2 1 \n",
    "1 2 3 4 5 4 3 2 1"
   ]
  },
  {
   "cell_type": "code",
   "execution_count": null,
   "id": "5f0853f0",
   "metadata": {
    "scrolled": false
   },
   "outputs": [],
   "source": [
    "rows = 6\n",
    "for i in range(1, rows):\n",
    "    for j in range(1, i):\n",
    "        print(j, end=\" \")\n",
    "    for j in range(i , 0, -1):\n",
    "        print(j, end=\" \")\n",
    "    print()"
   ]
  },
  {
   "cell_type": "markdown",
   "id": "afc4843b",
   "metadata": {},
   "source": [
    "# Pattern with a combination of numbers and stars\n",
    "\n",
    "1 * 2 * 3 * 4 \n",
    "\n",
    "1 * 2 * 3 \n",
    "\n",
    "1 * 2 \n",
    "\n",
    "1"
   ]
  },
  {
   "cell_type": "code",
   "execution_count": 5,
   "id": "51225503",
   "metadata": {},
   "outputs": [
    {
     "name": "stdout",
     "output_type": "stream",
     "text": [
      "1 * 2 * 3 * 4 \n",
      "\n",
      "1 * 2 * 3 \n",
      "\n",
      "1 * 2 \n",
      "\n",
      "1 \n",
      "\n"
     ]
    }
   ],
   "source": [
    "row = 4\n",
    "for i in range(1, row + 1):\n",
    "    c = 1\n",
    "    print(c, end=' ')\n",
    "    for j in range(row - i , 0, -1):\n",
    "        print('*', end=' ')\n",
    "        c = c + 1\n",
    "        print(c, end=' ')\n",
    "    print('\\n')"
   ]
  },
  {
   "cell_type": "markdown",
   "id": "5cfd3b88",
   "metadata": {},
   "source": [
    "More examples in https://pynative.com/print-pattern-python-examples/"
   ]
  }
 ],
 "metadata": {
  "kernelspec": {
   "display_name": "Python 3 (ipykernel)",
   "language": "python",
   "name": "python3"
  },
  "language_info": {
   "codemirror_mode": {
    "name": "ipython",
    "version": 3
   },
   "file_extension": ".py",
   "mimetype": "text/x-python",
   "name": "python",
   "nbconvert_exporter": "python",
   "pygments_lexer": "ipython3",
   "version": "3.9.13"
  }
 },
 "nbformat": 4,
 "nbformat_minor": 5
}
