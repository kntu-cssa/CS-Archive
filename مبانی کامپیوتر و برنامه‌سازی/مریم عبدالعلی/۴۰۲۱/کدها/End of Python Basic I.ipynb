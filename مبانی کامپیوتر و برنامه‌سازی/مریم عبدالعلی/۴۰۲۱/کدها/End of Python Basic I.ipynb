{
 "cells": [
  {
   "cell_type": "markdown",
   "id": "15335049",
   "metadata": {},
   "source": [
    "## 1. Count the occurrence of each element from a list\n",
    "\n",
    "Write a program to iterate a given list and count the occurrence of each element and create a dictionary to show the count of each element.\n",
    "\n",
    "Given:\n",
    "sample_list = [11, 45, 8, 11, 23, 45, 23, 45, 89]\n",
    "Expected Output:\n",
    "Printing count of each item   {11: 2, 45: 3, 8: 1, 23: 2, 89: 1}"
   ]
  },
  {
   "cell_type": "code",
   "execution_count": 9,
   "id": "0756a183",
   "metadata": {},
   "outputs": [
    {
     "name": "stdout",
     "output_type": "stream",
     "text": [
      "Original list  [11, 45, 8, 11, 23, 45, 23, 45, 89]\n",
      "Printing count of each item   {11: 2, 45: 3, 8: 1, 23: 2, 89: 1}\n"
     ]
    }
   ],
   "source": [
    "sample_list = [11, 45, 8, 11, 23, 45, 23, 45, 89]\n",
    "print(\"Original list \", sample_list)\n",
    "\n",
    "count_dict = dict()\n",
    "for item in sample_list:\n",
    "    if item in count_dict:\n",
    "        count_dict[item] += 1\n",
    "    else:\n",
    "        count_dict[item] = 1\n",
    "\n",
    "print(\"Printing count of each item  \", count_dict)"
   ]
  },
  {
   "cell_type": "markdown",
   "id": "cecca7c2",
   "metadata": {},
   "source": [
    "## 2. Create a Python set such that it shows the element from both lists in a pair\n",
    "\n",
    "Given:\n",
    "first_list = [2, 3, 4, 5, 6, 7, 8]\n",
    "second_list = [4, 9, 16, 25, 36, 49, 64]\n",
    "Expected Output:\n",
    "Result is  {(6, 36), (8, 64), (4, 16), (5, 25), (3, 9), (7, 49), (2, 4)}"
   ]
  },
  {
   "cell_type": "code",
   "execution_count": 10,
   "id": "c40af208",
   "metadata": {},
   "outputs": [
    {
     "name": "stdout",
     "output_type": "stream",
     "text": [
      "First List  [2, 3, 4, 5, 6, 7, 8]\n",
      "Second List  [4, 9, 16, 25, 36, 49, 64]\n",
      "{(7, 49), (2, 4), (4, 16), (8, 64), (6, 36), (3, 9), (5, 25)}\n"
     ]
    }
   ],
   "source": [
    "first_list = [2, 3, 4, 5, 6, 7, 8]\n",
    "print(\"First List \", first_list)\n",
    "\n",
    "second_list = [4, 9, 16, 25, 36, 49, 64]\n",
    "print(\"Second List \", second_list)\n",
    "\n",
    "result = set()\n",
    "for i in range(len(first_list)):\n",
    "    result.add(tuple([first_list[i],second_list[i]]))\n",
    "\n",
    "print(result)"
   ]
  },
  {
   "cell_type": "markdown",
   "id": "07a2d7b5",
   "metadata": {},
   "source": [
    "## 3. Get all values from the dictionary and add them to a list but don’t add duplicates\n",
    "Given:\n",
    "speed = {'jan': 47, 'feb': 52, 'march': 47, 'April': 44, 'May': 52, 'June': 53, 'july': 54, 'Aug': 44, 'Sept': 54}\n",
    "Expected Outcome:\n",
    "[47, 52, 44, 53, 54]"
   ]
  },
  {
   "cell_type": "code",
   "execution_count": 11,
   "id": "896a5106",
   "metadata": {},
   "outputs": [
    {
     "name": "stdout",
     "output_type": "stream",
     "text": [
      "Dictionary's values -  dict_values([47, 52, 47, 44, 52, 53, 54, 44, 54])\n",
      "unique list [47, 52, 44, 53, 54]\n"
     ]
    }
   ],
   "source": [
    "speed = {'jan': 47, 'feb': 52, 'march': 47, 'April': 44, 'May': 52, 'June': 53,\n",
    "         'july': 54, 'Aug': 44, 'Sept': 54}\n",
    "\n",
    "print(\"Dictionary's values - \", speed.values())\n",
    "\n",
    "speed_list = list()\n",
    "\n",
    "# iterate dict values\n",
    "for val in speed.values():\n",
    "    # check if value not present in a list\n",
    "    if val not in speed_list:\n",
    "        speed_list.append(val)\n",
    "print(\"unique list\", speed_list)"
   ]
  },
  {
   "cell_type": "markdown",
   "id": "d6977dd0",
   "metadata": {},
   "source": [
    "## 4. Reverse each word of a string\n",
    "Given:\n",
    "str = 'My Name is Jessa'\n",
    "Expected Output\n",
    "yM emaN si asseJ"
   ]
  },
  {
   "cell_type": "code",
   "execution_count": 12,
   "id": "ebef86e3",
   "metadata": {},
   "outputs": [
    {
     "name": "stdout",
     "output_type": "stream",
     "text": [
      "yM emaN si asseJ\n"
     ]
    }
   ],
   "source": [
    "# Given String\n",
    "str1 = \"My Name is Jessa\"\n",
    "words = str1.split(\" \")\n",
    "\n",
    "new_word_list = []\n",
    "for word in words:\n",
    "    new_word_list.append(word[::-1])\n",
    "    \n",
    "# Joining the new list of words\n",
    "res_str = \" \".join(new_word_list)\n",
    "print(res_str)"
   ]
  },
  {
   "cell_type": "markdown",
   "id": "92260438",
   "metadata": {},
   "source": [
    "## 5. Reverse Dictionary mapping\n",
    "Given:\n",
    "ascii_dict = {'A': 65, 'B': 66, 'C': 67, 'D': 68}\n",
    "Expected Output:\n",
    "{65: 'A', 66: 'B', 67: 'C', 68: 'D'}"
   ]
  },
  {
   "cell_type": "code",
   "execution_count": 13,
   "id": "ec3362c4",
   "metadata": {},
   "outputs": [
    {
     "name": "stdout",
     "output_type": "stream",
     "text": [
      "{65: 'A', 66: 'B', 67: 'C', 68: 'D'}\n"
     ]
    }
   ],
   "source": [
    "ascii_dict = {'A': 65, 'B': 66, 'C': 67, 'D': 68}\n",
    "# Reverse mapping\n",
    "new_dict = {}\n",
    "for key,value in ascii_dict.items():\n",
    "    new_dict[value]=key\n",
    "print(new_dict)"
   ]
  },
  {
   "cell_type": "markdown",
   "id": "3719d749",
   "metadata": {},
   "source": [
    "## 6. Display all duplicate items from a list\n",
    "Given:\n",
    "sample_list = [10, 20, 60, 30, 20, 40, 30, 60, 70, 80]\n",
    "Expected Output:[20, 60, 30]"
   ]
  },
  {
   "cell_type": "code",
   "execution_count": 14,
   "id": "46546959",
   "metadata": {},
   "outputs": [
    {
     "name": "stdout",
     "output_type": "stream",
     "text": [
      "[20, 30, 60]\n"
     ]
    }
   ],
   "source": [
    "sample_list = [10, 20, 60, 30, 20, 40, 30, 60, 70, 80]\n",
    "exist = {}\n",
    "duplicates = []\n",
    "\n",
    "for x in sample_list:\n",
    "    if x not in exist:\n",
    "        exist[x] = 1\n",
    "    else:\n",
    "        duplicates.append(x)\n",
    "print(duplicates)"
   ]
  },
  {
   "cell_type": "markdown",
   "id": "74ab6c09",
   "metadata": {},
   "source": [
    "## 7. Filter dictionary to contain keys present in the given list\n",
    "Given:\n",
    "\n",
    "Dictionary d1 = {'A': 65, 'B': 66, 'C': 67, 'D': 68, 'E': 69, 'F': 70}\n",
    "Filter dict using following keys l1 = ['A', 'C', 'F']\n",
    "\n",
    "Expected Output: new dict {'A': 65, 'C': 67, 'F': 70}"
   ]
  },
  {
   "cell_type": "code",
   "execution_count": 15,
   "id": "8452e7de",
   "metadata": {},
   "outputs": [
    {
     "name": "stdout",
     "output_type": "stream",
     "text": [
      "{'A': 65, 'C': 67, 'F': 70}\n"
     ]
    }
   ],
   "source": [
    "# Dictionary\n",
    "d1 = {'A': 65, 'B': 66, 'C': 67, 'D': 68, 'E': 69, 'F': 70}\n",
    "# Filter dict using following keys\n",
    "l1 = ['A', 'C', 'F']\n",
    "new_dict = {}\n",
    "for key in l1:\n",
    "    new_dict[key]=d1[key]\n",
    "print(new_dict)"
   ]
  }
 ],
 "metadata": {
  "kernelspec": {
   "display_name": "Python 3 (ipykernel)",
   "language": "python",
   "name": "python3"
  },
  "language_info": {
   "codemirror_mode": {
    "name": "ipython",
    "version": 3
   },
   "file_extension": ".py",
   "mimetype": "text/x-python",
   "name": "python",
   "nbconvert_exporter": "python",
   "pygments_lexer": "ipython3",
   "version": "3.9.13"
  }
 },
 "nbformat": 4,
 "nbformat_minor": 5
}
