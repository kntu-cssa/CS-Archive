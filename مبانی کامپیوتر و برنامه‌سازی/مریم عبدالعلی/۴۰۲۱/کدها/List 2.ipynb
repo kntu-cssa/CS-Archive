{
 "cells": [
  {
   "cell_type": "markdown",
   "id": "b30af56d",
   "metadata": {},
   "source": [
    "# Basic List excersises"
   ]
  },
  {
   "cell_type": "markdown",
   "id": "aa8fda29",
   "metadata": {},
   "source": [
    "#### 1- Given a list, write a Python program to swap first and last element of the list.\n",
    "\n",
    "\n",
    "input: [12, 35, 9, 56, 24]\n",
    "\n",
    "output: [24, 35, 9, 56, 12]"
   ]
  },
  {
   "cell_type": "code",
   "execution_count": 2,
   "id": "a45d3d0d",
   "metadata": {},
   "outputs": [
    {
     "name": "stdout",
     "output_type": "stream",
     "text": [
      "[24, 35, 9, 56, 12]\n"
     ]
    }
   ],
   "source": [
    "ilist = [12, 35, 9, 56, 24]\n",
    "olist = ilist[:]\n",
    "olist[0], olist[-1] = olist[-1], olist[0]\n",
    "\n",
    "print(olist)"
   ]
  },
  {
   "cell_type": "markdown",
   "id": "d7143aa8",
   "metadata": {},
   "source": [
    "#### 2- Swap elements (e & i) in String list\n",
    "\n",
    "input: The original list is : ['kntu', 'is', 'the', 'best', 'university', 'ever']\n",
    "\n",
    "output: List after performing character swaps : ['kntu', 'es', 'thi', 'bist', 'unevirsety', 'ivir']"
   ]
  },
  {
   "cell_type": "code",
   "execution_count": 4,
   "id": "aa84b770",
   "metadata": {},
   "outputs": [
    {
     "name": "stdout",
     "output_type": "stream",
     "text": [
      "['kntu', 'es', 'thi', 'bist', 'unevirsety', 'ivir']\n"
     ]
    }
   ],
   "source": [
    "mylist = ['kntu', 'is', 'the', 'best', 'university', 'ever']\n",
    "\n",
    "olist = []\n",
    "for item in mylist:\n",
    "    olist.append(item.replace('e', '-').replace('i', 'e').replace('-', 'i'))\n",
    "print(olist)"
   ]
  },
  {
   "cell_type": "markdown",
   "id": "535e0c21",
   "metadata": {},
   "source": [
    "#### 3. Reversing a List in Python\n",
    "\n",
    "Input: [4, 5, 6, 7, 8, 9]\n",
    "\n",
    "Output: [9, 8, 7, 6, 5, 4] "
   ]
  },
  {
   "cell_type": "code",
   "execution_count": 7,
   "id": "c63f5eac",
   "metadata": {},
   "outputs": [
    {
     "name": "stdout",
     "output_type": "stream",
     "text": [
      "[9, 8, 7, 6, 5, 4]\n",
      "[9, 8, 7, 6, 5, 4]\n"
     ]
    }
   ],
   "source": [
    "mylist = [4, 5, 6, 7, 8, 9]\n",
    "\n",
    "#approach 1\n",
    "olist = mylist[::-1]\n",
    "print(olist)\n",
    "#approach 2\n",
    "olist = list(reversed(mylist))\n",
    "print(olist)"
   ]
  },
  {
   "cell_type": "markdown",
   "id": "8cce068e",
   "metadata": {},
   "source": [
    "#### 4. Sum of number digits in List\n",
    "\n",
    "Input : [12, 67, 98, 34]\n",
    "\n",
    "Output : [3, 13, 17, 7]"
   ]
  },
  {
   "cell_type": "code",
   "execution_count": 9,
   "id": "1711d61d",
   "metadata": {},
   "outputs": [
    {
     "name": "stdout",
     "output_type": "stream",
     "text": [
      "[3, 13, 17, 7]\n"
     ]
    }
   ],
   "source": [
    "mylist = [12, 67, 98, 34]\n",
    "\n",
    "result = []\n",
    "for element in mylist:\n",
    "    if isinstance(element, int):\n",
    "        s = 0\n",
    "        for item in str(element):\n",
    "            s = s + int(item)\n",
    "        result.append(s)\n",
    "print(result)"
   ]
  },
  {
   "cell_type": "markdown",
   "id": "2f415ea7",
   "metadata": {},
   "source": [
    "#### 5. find second largest number in a list"
   ]
  },
  {
   "cell_type": "code",
   "execution_count": 15,
   "id": "aa324e34",
   "metadata": {},
   "outputs": [
    {
     "name": "stdout",
     "output_type": "stream",
     "text": [
      "second maximum element is: 67\n",
      "based on second approach second maximum element is: 67\n"
     ]
    }
   ],
   "source": [
    "mylist = [12, 67, 98, 34]\n",
    "#approach 1\n",
    "second_maximum = sorted(mylist, reverse= True)[1]\n",
    "print(f\"second maximum element is: {second_maximum}\")\n",
    "#approach 2\n",
    "first_maximum = max(mylist[0], mylist[1])\n",
    "second_maximum = min(mylist[0], mylist[1])\n",
    "n = len(mylist)\n",
    "for i in range(2, n):\n",
    "    if mylist[i]>first_maximum:\n",
    "        second_maximum = first_maximum\n",
    "        first_maxium = mylist[i]\n",
    "    elif mylist[i] >second_maximum:\n",
    "        second_maximum = mylist[i]\n",
    "print(f\"based on second approach second maximum element is: {second_maximum}\")"
   ]
  },
  {
   "cell_type": "markdown",
   "id": "e99174a0",
   "metadata": {},
   "source": [
    "# More advanced List excersises"
   ]
  },
  {
   "cell_type": "markdown",
   "id": "6a6bb4da",
   "metadata": {},
   "source": [
    " ##### 1. Reverse Row sort in Lists of List"
   ]
  },
  {
   "cell_type": "code",
   "execution_count": 21,
   "id": "671b9402",
   "metadata": {},
   "outputs": [
    {
     "name": "stdout",
     "output_type": "stream",
     "text": [
      "[[6, 4, 1], [8, 7], [10, 8, 4]]\n"
     ]
    }
   ],
   "source": [
    "test_list = [[4, 1, 6], [7, 8], [4, 10, 8]]\n",
    "reversed_list = []\n",
    "for item in test_list:\n",
    "    reversed_list.append(sorted(item, reverse=True))\n",
    "print(reversed_list)"
   ]
  },
  {
   "cell_type": "markdown",
   "id": "949c512c",
   "metadata": {},
   "source": [
    "##### 2. Extract least frequency element"
   ]
  },
  {
   "cell_type": "code",
   "execution_count": 26,
   "id": "3c83322b",
   "metadata": {},
   "outputs": [
    {
     "name": "stdout",
     "output_type": "stream",
     "text": [
      "least frequent key is 4 which appeared 1 times\n"
     ]
    }
   ],
   "source": [
    "test_list = [1, 3, 4, 5, 1, 3, 5]\n",
    "uniq_list = list(set(test_list))\n",
    "dict1 = {}\n",
    "for item in uniq_list:\n",
    "    dict1[item] = test_list.count(item)\n",
    "\n",
    "minimum = (None, len(test_list) + 1)\n",
    "for key,val in dict1.items():\n",
    "    if val < minimum[1]:\n",
    "        minimum = (key, val)\n",
    "print(f\"least frequent key is {minimum[0]} which appeared {minimum[1]} times\")"
   ]
  },
  {
   "cell_type": "markdown",
   "id": "de57e75b",
   "metadata": {},
   "source": [
    "##### 3. Remove all the occurrences of an element from a list in Python (in place removal)\n",
    "\n",
    "Input: [1, 1, 2, 3, 4, 5, 1, 2] and item to be removed is 1,\n",
    "\n",
    "Output1: [2 3 4 5 2 ]"
   ]
  },
  {
   "cell_type": "code",
   "execution_count": 1,
   "id": "a3dd7b3f",
   "metadata": {},
   "outputs": [
    {
     "name": "stdout",
     "output_type": "stream",
     "text": [
      "[2, 3, 4, 5, 2]\n",
      "based on second approach, the final result is: [2, 3, 4, 5, 2]\n"
     ]
    }
   ],
   "source": [
    "input_list = [1, 1, 2, 3, 4, 5, 1, 2] \n",
    "val = 1\n",
    "\n",
    "#approach 1\n",
    "freq = input_list.count(val)\n",
    "for item in range(freq):\n",
    "    input_list.remove(val)\n",
    "\n",
    "print(input_list)\n",
    "\n",
    "#approach 2\n",
    "input_list = [1, 1, 2, 3, 4, 5, 1, 2] \n",
    "val = 1\n",
    "\n",
    "indices = []\n",
    "for index, item in enumerate(input_list):\n",
    "    if item==val:\n",
    "        indices.append(index)\n",
    "\n",
    "for ind in indices[::-1]:\n",
    "    del input_list[ind]\n",
    "print(f\"based on second approach, the final result is: {input_list}\")"
   ]
  },
  {
   "cell_type": "code",
   "execution_count": null,
   "metadata": {},
   "outputs": [],
   "source": []
  }
 ],
 "metadata": {
  "kernelspec": {
   "display_name": "Python 3 (ipykernel)",
   "language": "python",
   "name": "python3"
  },
  "language_info": {
   "codemirror_mode": {
    "name": "ipython",
    "version": 3
   },
   "file_extension": ".py",
   "mimetype": "text/x-python",
   "name": "python",
   "nbconvert_exporter": "python",
   "pygments_lexer": "ipython3",
   "version": "3.11.1"
  }
 },
 "nbformat": 4,
 "nbformat_minor": 5
}
