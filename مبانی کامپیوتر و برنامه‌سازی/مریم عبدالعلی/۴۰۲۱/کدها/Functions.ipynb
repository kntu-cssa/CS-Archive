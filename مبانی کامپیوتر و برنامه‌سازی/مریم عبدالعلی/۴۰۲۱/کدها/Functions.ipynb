{
 "cells": [
  {
   "cell_type": "markdown",
   "metadata": {},
   "source": [
    "# Q1: Write a Python function to check whether a number is \"Perfect\" or not.\n",
    "\n",
    "A perfect number is a positive integer that is equal to the sum of its proper positive divisors, that is, the sum of its positive divisors excluding the number itself (also known as its aliquot sum). Equivalently, a perfect number is a number that is half the sum of all of its positive divisors (including itself).\n",
    "Example : The first perfect number is 6, because 1, 2, and 3 are its proper positive divisors, and 1 + 2 + 3 = 6"
   ]
  },
  {
   "cell_type": "code",
   "execution_count": 2,
   "metadata": {},
   "outputs": [
    {
     "name": "stdout",
     "output_type": "stream",
     "text": [
      "False\n"
     ]
    }
   ],
   "source": [
    "def isperfect(n):\n",
    "    sum = 0\n",
    "    for x in range(1, n):\n",
    "        if n % x == 0:\n",
    "            sum += x\n",
    "    return sum == n\n",
    "\n",
    "\n",
    "print(isperfect(7))"
   ]
  },
  {
   "cell_type": "markdown",
   "metadata": {},
   "source": [
    "# Q2: Write a Python function that prints out the first n rows of Pascal's triangle."
   ]
  },
  {
   "cell_type": "code",
   "execution_count": 15,
   "metadata": {},
   "outputs": [
    {
     "data": {
      "text/plain": [
       "[[1], [1, 1], [1, 2, 1], [1, 3, 3, 1]]"
      ]
     },
     "execution_count": 15,
     "metadata": {},
     "output_type": "execute_result"
    }
   ],
   "source": [
    "def pascal_triangle(n):\n",
    "   if n < 1:\n",
    "      return\n",
    "   result = []\n",
    "   trow = [1]\n",
    "   result.append(trow)\n",
    "   y = [0]\n",
    "   for x in range(max(n-1,0)):\n",
    "      #trow=[l+r for l,r in zip(trow+y, y+trow)]\n",
    "      trow1 = trow + y\n",
    "      trow2 = y + trow\n",
    "      trow = []\n",
    "      for i in range(len(trow1)):\n",
    "          trow.append(trow1[i]+trow2[i])\n",
    "      result.append(trow)\n",
    "   return result\n",
    "\n",
    "pascal_triangle(4) \n"
   ]
  },
  {
   "cell_type": "markdown",
   "metadata": {},
   "source": [
    "# Q3: Write a Python function that checks whether a passed string is a palindrome or not.\n",
    "\n",
    "A palindrome is a word, phrase, or sequence that reads the same backward as forward, e.g., madam"
   ]
  },
  {
   "cell_type": "code",
   "execution_count": 3,
   "metadata": {},
   "outputs": [
    {
     "name": "stdout",
     "output_type": "stream",
     "text": [
      "True\n"
     ]
    }
   ],
   "source": [
    "def isPalindrome(seq):\n",
    "\tlpos = 0\n",
    "\trpos = len(seq) - 1\n",
    "\t\n",
    "\twhile rpos >= lpos:\n",
    "\t\tif not seq[lpos] == seq[rpos]:\n",
    "\t\t\treturn False\n",
    "\t\tlpos += 1\n",
    "\t\trpos -= 1\n",
    "\treturn True\n",
    "\n",
    "\"\"\" Approach 2\n",
    "def isPalindrome(seq):\n",
    "    rev = \"\".join(list(reversed(seq)))\n",
    "    if rev == seq:\n",
    "        return True\n",
    "    else:\n",
    "        return False\n",
    "\"\"\"\n",
    "print(isPalindrome('madam')) "
   ]
  },
  {
   "cell_type": "markdown",
   "metadata": {},
   "source": [
    "# Q4: Write a Python function to check whether a string is a pangram or not.\n",
    "\n",
    "Pangrams are words or sentences containing every letter of the alphabet at least once.\n",
    "For example : \"The quick brown fox jumps over the lazy dog\""
   ]
  },
  {
   "cell_type": "code",
   "execution_count": 4,
   "metadata": {},
   "outputs": [
    {
     "name": "stdout",
     "output_type": "stream",
     "text": [
      "False\n"
     ]
    }
   ],
   "source": [
    "def ispangram(string):\n",
    "    alphabet = ['a','b','c','d','e','f','g','h','i','j','k','l','m','n','o','p','q','r','s','t','u','v','w','x','y','z']\n",
    "    alphaset = set(alphabet)\n",
    "    return alphaset <= set(string.lower())\n",
    " \n",
    "print ( ispangram('The quick bron fox jumps over the lazy dog')) "
   ]
  },
  {
   "cell_type": "markdown",
   "metadata": {},
   "source": [
    "# Q5: Check for balanced parentheses in Python\n",
    "\n",
    "Given an expression string, write a python program to find whether a given string has balanced parentheses or not.\n",
    "\n",
    "Examples:\n",
    "\n",
    "    Input : {[]{()}}\n",
    "    Output : Balanced\n",
    "\n",
    "    Input : [{}{}(]\n",
    "    Output : Unbalanced"
   ]
  },
  {
   "cell_type": "code",
   "execution_count": 5,
   "metadata": {},
   "outputs": [
    {
     "name": "stdout",
     "output_type": "stream",
     "text": [
      "{[]{(aa)}} - Balanced\n",
      "[{}{})(] - unbalanced\n",
      "((() - Unbalanced\n"
     ]
    }
   ],
   "source": [
    "def isBalanced(string):\n",
    "    openlist = ['(', '{', '[']\n",
    "    closelist = [')', '}', ']']\n",
    "\n",
    "    stack = []\n",
    "    for chr in string:\n",
    "        if chr in openlist:\n",
    "            stack.append(chr)\n",
    "        elif chr in closelist:\n",
    "            pos = closelist.index(chr)\n",
    "            if len(stack)>0 and stack[-1]==openlist[pos]:\n",
    "                stack.pop()\n",
    "            else:\n",
    "                return \"unbalanced\"\n",
    "    \n",
    "    if len(stack)==0:\n",
    "        return \"Balanced\"\n",
    "    else:\n",
    "        return \"Unbalanced\"\n",
    "\n",
    "str1 = \"{[]{()}}\"\n",
    "print(str1,\"-\", isBalanced(str1))\n",
    " \n",
    "str2 = \"[{}{})(]\"\n",
    "print(str2,\"-\", isBalanced(str2))\n",
    " \n",
    "str3 = \"((()\"\n",
    "print(str3,\"-\",isBalanced(str3))\n"
   ]
  },
  {
   "cell_type": "markdown",
   "metadata": {},
   "source": [
    "# Q6: Find the longest substring with k unique characters in a given string"
   ]
  },
  {
   "cell_type": "code",
   "execution_count": 7,
   "metadata": {},
   "outputs": [
    {
     "name": "stdout",
     "output_type": "stream",
     "text": [
      "(11, 'cccaaabbccc')\n"
     ]
    }
   ],
   "source": [
    "def longestKStr(string, k):\n",
    "    current_answer_len = 0\n",
    "    answer_str = \"\"\n",
    "    n = len(string)\n",
    "    for i in range(n):\n",
    "        for j in range(i+1, n+1):\n",
    "            uniq = set(string[i:j])\n",
    "            if len(uniq) == k:\n",
    "                if current_answer_len < (j - i):\n",
    "                    answer_str = string[i:j]\n",
    "                current_answer_len = max(current_answer_len, j-i)\n",
    "                \n",
    "    return current_answer_len, answer_str\n",
    "\n",
    "string = \"dcccaaabbccceeezzaa\"\n",
    "print(longestKStr(string, 3))\n"
   ]
  },
  {
   "cell_type": "markdown",
   "metadata": {},
   "source": [
    "# Q7: Find unique triplets whose three elements gives the sum of zero from an array of n integers"
   ]
  },
  {
   "attachments": {
    "image.png": {
     "image/png": "[encoded data removed]"
    }
   },
   "cell_type": "markdown",
   "metadata": {},
   "source": [
    "![image.png](attachment:image.png)"
   ]
  },
  {
   "cell_type": "code",
   "execution_count": 2,
   "metadata": {},
   "outputs": [
    {
     "name": "stdout",
     "output_type": "stream",
     "text": [
      "[(-2, -1, 3), (-6, 2, 4), (-1, 0, 1), (-2, 0, 2)]\n"
     ]
    }
   ],
   "source": [
    "def three_zero_sum(num_list):\n",
    "  result = []\n",
    "  num_list.sort()\n",
    "  for i in range(len(num_list)-2):\n",
    "      l, r = i+1, len(num_list)-1\n",
    "      while l < r:\n",
    "          s = num_list[i] + num_list[l] + num_list[r]\n",
    "          if s > 0:\n",
    "            r -= 1\n",
    "          elif s < 0:\n",
    "              l += 1\n",
    "          else:\n",
    "              if len(set((num_list[i], num_list[l], num_list[r]))) == 3:\n",
    "                result.append((num_list[i], num_list[l], num_list[r]))\n",
    "              l += 1\n",
    "              r -= 1\n",
    "\n",
    "  return list(set(result))\n",
    "\n",
    "x = [3, 4, 1, -6, 4, 2, -1, 2, 0, 1, -2, 0 ]\n",
    "print(three_zero_sum(x))"
   ]
  }
 ],
 "metadata": {
  "kernelspec": {
   "display_name": "Python 3",
   "language": "python",
   "name": "python3"
  },
  "language_info": {
   "codemirror_mode": {
    "name": "ipython",
    "version": 3
   },
   "file_extension": ".py",
   "mimetype": "text/x-python",
   "name": "python",
   "nbconvert_exporter": "python",
   "pygments_lexer": "ipython3",
   "version": "3.11.1"
  }
 },
 "nbformat": 4,
 "nbformat_minor": 2
}
