{
 "cells": [
  {
   "cell_type": "markdown",
   "id": "e8edcd4e",
   "metadata": {},
   "source": [
    "# Bubble sort (1)"
   ]
  },
  {
   "cell_type": "code",
   "execution_count": null,
   "id": "8d9c396a",
   "metadata": {},
   "outputs": [],
   "source": [
    "arr = [10, 5, 4, 20, 32, 12]\n",
    "n = len(arr)\n",
    "\n",
    "swap = True\n",
    "while swap:\n",
    "    swap = False\n",
    "    for i in range(0, n-1):\n",
    "        if arr[i] > arr[i+1]:\n",
    "            swap = True\n",
    "            arr[i], arr[i+1] = arr[i+1], arr[i]\n",
    "            \n",
    "print(f\"sorted array is: {arr}\")"
   ]
  },
  {
   "cell_type": "markdown",
   "id": "9e666c2b",
   "metadata": {},
   "source": [
    "# Bubble sort (2)"
   ]
  },
  {
   "cell_type": "code",
   "execution_count": null,
   "id": "4fad9ba7",
   "metadata": {},
   "outputs": [],
   "source": [
    "arr = [10, 5, 4, 20, 32, 12]\n",
    "n = len(arr)\n",
    "\n",
    "for i in range(n):\n",
    "    \n",
    "    for j in range(0,n-i-1):\n",
    "        \n",
    "        if arr[j] > arr[j+1]:\n",
    "            arr[j], arr[j+1] = arr[j+1], arr[j]\n",
    "            \n",
    "print(f\"sorted array is: {arr}\")"
   ]
  },
  {
   "cell_type": "markdown",
   "id": "9b2f0f64",
   "metadata": {},
   "source": [
    "# Selection sort"
   ]
  },
  {
   "cell_type": "code",
   "execution_count": 1,
   "id": "6614ae5d",
   "metadata": {},
   "outputs": [
    {
     "name": "stdout",
     "output_type": "stream",
     "text": [
      "sorted array is [4, 5, 10, 12, 20, 32]\n"
     ]
    }
   ],
   "source": [
    "arr = [10, 5, 4, 20, 32, 12]\n",
    "n = len(arr)\n",
    "\n",
    "for i in range(n):\n",
    "    index_min_value = i\n",
    "    for j in range(i+1,n):\n",
    "        if arr[index_min_value] > arr[j]:\n",
    "            index_min_value = j\n",
    "    arr[i], arr[index_min_value] = arr[index_min_value], arr[i]\n",
    "    \n",
    "print(f\"sorted array is {arr}\")"
   ]
  },
  {
   "cell_type": "markdown",
   "id": "222c888a",
   "metadata": {},
   "source": [
    "# Insertion sort (1)"
   ]
  },
  {
   "cell_type": "code",
   "execution_count": 2,
   "id": "e24f2b43",
   "metadata": {},
   "outputs": [],
   "source": [
    "arr = [10, 5, 4, 20, 32, 12]\n",
    "n = len(arr)\n",
    "\n",
    "for i in range(n):\n",
    "    key = arr[i]\n",
    "    for j in range(i-1,-1,-1):\n",
    "        if key < arr[j]:\n",
    "            arr[j+1] = arr[j]\n",
    "            arr[j] = key\n",
    "        else:\n",
    "            break\n",
    "\n",
    "print(f\"sorted array is: {arr}\")"
   ]
  },
  {
   "cell_type": "markdown",
   "id": "6a28c8de",
   "metadata": {},
   "source": [
    "# Insertion sort (2)"
   ]
  },
  {
   "cell_type": "code",
   "execution_count": null,
   "id": "60ccb6c7",
   "metadata": {},
   "outputs": [],
   "source": [
    "arr = [10, 5, 4, 20, 32, 12]\n",
    "n = len(arr)\n",
    "\n",
    "for i in range(n):\n",
    "    key = arr[i]\n",
    "    \n",
    "    j = i-1\n",
    "    while j >=0 and key < arr[j] :\n",
    "        arr[j+1] = arr[j]\n",
    "        j -=1\n",
    "    arr[j+1] = key\n",
    "    \n",
    "print(f\"sorted array is: {arr}\")"
   ]
  },
  {
   "cell_type": "markdown",
   "id": "dd37cc74",
   "metadata": {},
   "source": [
    "# Quick Sort"
   ]
  },
  {
   "cell_type": "code",
   "execution_count": 1,
   "id": "f09e0a05",
   "metadata": {},
   "outputs": [],
   "source": [
    "arr = [10, 5, 4, 20, 32, 12]\n"
   ]
  },
  {
   "cell_type": "markdown",
   "id": "8e2ce65e",
   "metadata": {},
   "source": [
    "# Linear search"
   ]
  },
  {
   "cell_type": "code",
   "execution_count": null,
   "id": "8e3f6ae6",
   "metadata": {},
   "outputs": [],
   "source": [
    "arr = [2, 3, 4, 10, 40]\n",
    "key = 3\n",
    "index = -1\n",
    "for i in range(0, len(arr)): \n",
    "    if (arr[i] == key): \n",
    "        index = i\n",
    "        break\n",
    "if index >=0:\n",
    "    print(f\"found key: {key}, at the index: {index}\")\n",
    "else:\n",
    "    print(\"Did not find the key\")"
   ]
  },
  {
   "cell_type": "markdown",
   "id": "b679bbf5",
   "metadata": {},
   "source": [
    "# Binary search"
   ]
  },
  {
   "cell_type": "code",
   "execution_count": 2,
   "id": "025af6fd",
   "metadata": {},
   "outputs": [
    {
     "name": "stdout",
     "output_type": "stream",
     "text": [
      "Did not find the key\n"
     ]
    }
   ],
   "source": [
    "arr = [2, 3, 4, 10, 40]\n",
    "key = 50\n",
    "\n",
    "index = -1\n",
    "low, high = 0, len(arr)-1\n",
    "while low <= high:\n",
    "    mid = low + (high-low)//2\n",
    "    \n",
    "    if key == arr[mid]:\n",
    "        index = mid\n",
    "        break\n",
    "    elif key < arr[mid]:\n",
    "        high = mid - 1\n",
    "    elif key > arr[mid]:\n",
    "        low = mid + 1\n",
    "\n",
    "if index >=0:\n",
    "    print(f\"found key: {key}, at the index: {index}\")\n",
    "else:\n",
    "    print(\"Did not find the key\")"
   ]
  },
  {
   "cell_type": "markdown",
   "metadata": {},
   "source": [
    "# Ternary search"
   ]
  },
  {
   "cell_type": "code",
   "execution_count": null,
   "metadata": {},
   "outputs": [],
   "source": [
    "arr = [ 1, 2, 3, 4, 5, 6, 7, 8, 9, 10 ]\n",
    "n = len(arr)\n",
    "key = 10\n",
    "\n",
    "low = 0\n",
    "high = n -1\n",
    "index = -1\n",
    "while low <= high:\n",
    "    mid1 = low + (high - low)//3\n",
    "    mid2 = high - (high - low)//3\n",
    "    \n",
    "    if key == arr[mid1]:\n",
    "        index = mid1\n",
    "        break\n",
    "    elif key == arr[mid2]:\n",
    "        index = mid2\n",
    "        break\n",
    "    elif key < arr[mid1]:\n",
    "        high = mid1 - 1\n",
    "    elif key < arr[mid2]:\n",
    "        low = mid1 + 1\n",
    "        high = mid2 -1\n",
    "    else:\n",
    "        low = mid2 + 1\n",
    "\n",
    "if index >=0 :\n",
    "    print(f\"the key: {key} is at element: {index}\")\n",
    "else:\n",
    "    print(f\"key: {key} not found\")"
   ]
  },
  {
   "cell_type": "markdown",
   "id": "0c5317c5",
   "metadata": {},
   "source": [
    "# Quicksort (1)"
   ]
  },
  {
   "cell_type": "code",
   "execution_count": 6,
   "id": "79f5be8d",
   "metadata": {},
   "outputs": [
    {
     "name": "stdout",
     "output_type": "stream",
     "text": [
      "[4, 5, 10, 12, 20, 32]\n"
     ]
    }
   ],
   "source": [
    "import random\n",
    "\n",
    "def quicksort(array):\n",
    "    if len(array)<2:\n",
    "        return array\n",
    "    low,same,high = [], [], []\n",
    "    pivot = random.choice(array)\n",
    "    for item in array:\n",
    "        if item < pivot:\n",
    "            low.append(item)\n",
    "        elif item > pivot:\n",
    "            high.append(item)\n",
    "        else:\n",
    "            same.append(item)\n",
    "    return quicksort(low) + same + quicksort(high)\n",
    "\n",
    "arr = [10, 5, 4, 20, 32, 12]\n",
    "print(quicksort(arr))\n",
    "    "
   ]
  },
  {
   "cell_type": "markdown",
   "id": "27e626d2",
   "metadata": {},
   "source": [
    "# Quicksort (2)"
   ]
  },
  {
   "cell_type": "code",
   "execution_count": 12,
   "id": "2ddd020d",
   "metadata": {},
   "outputs": [
    {
     "name": "stdout",
     "output_type": "stream",
     "text": [
      "sorted array is: [4, 5, 10, 12, 20, 32]\n"
     ]
    }
   ],
   "source": [
    "def partition(array, low, high):\n",
    "    pivot = array[high]\n",
    "    i = low - 1 #pointer for the greater elements\n",
    "    \n",
    "    for j in range(low, high):\n",
    "        if array[j] <= pivot:\n",
    "            i = i + 1\n",
    "            array[i], array[j] = array[j], array[i]\n",
    "    array[high], array[i+1] = array[i+1], array[high]\n",
    "    \n",
    "    return i+1\n",
    "\n",
    "def quicksort(array, low, high):\n",
    "    if low < high:\n",
    "        pivot_index = partition(array, low, high)\n",
    "        quicksort(array, pivot_index+1, high)\n",
    "        quicksort(array, low, pivot_index-1)\n",
    "        \n",
    "arr = [10, 5, 4, 20, 32, 12]\n",
    "quicksort(arr,0,len(arr)-1)\n",
    "print(f\"sorted array is: {arr}\")"
   ]
  },
  {
   "cell_type": "code",
   "execution_count": null,
   "id": "e5f53fb5",
   "metadata": {},
   "outputs": [],
   "source": []
  }
 ],
 "metadata": {
  "kernelspec": {
   "display_name": "Python 3 (ipykernel)",
   "language": "python",
   "name": "python3"
  },
  "language_info": {
   "codemirror_mode": {
    "name": "ipython",
    "version": 3
   },
   "file_extension": ".py",
   "mimetype": "text/x-python",
   "name": "python",
   "nbconvert_exporter": "python",
   "pygments_lexer": "ipython3",
   "version": "3.11.1"
  }
 },
 "nbformat": 4,
 "nbformat_minor": 5
}
